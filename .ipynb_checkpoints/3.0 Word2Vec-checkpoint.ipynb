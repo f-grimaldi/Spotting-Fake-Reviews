{
 "cells": [
  {
   "cell_type": "markdown",
   "metadata": {},
   "source": [
    "## Francesco Grimaldi\n",
    "\n",
    "# 3.0) Word2Vec Model\n",
    "Here you will find the Word2vec model part of code."
   ]
  },
  {
   "cell_type": "code",
   "execution_count": 1,
   "metadata": {},
   "outputs": [
    {
     "name": "stderr",
     "output_type": "stream",
     "text": [
      "C:\\Users\\fgrim\\AppData\\Local\\Continuum\\anaconda3\\lib\\site-packages\\gensim\\utils.py:1197: UserWarning: detected Windows; aliasing chunkize to chunkize_serial\n",
      "  warnings.warn(\"detected Windows; aliasing chunkize to chunkize_serial\")\n"
     ]
    },
    {
     "name": "stdout",
     "output_type": "stream",
     "text": [
      "[nltk_data] Downloading package stopwords to\n",
      "[nltk_data]     C:\\Users\\fgrim\\AppData\\Roaming\\nltk_data...\n",
      "[nltk_data]   Package stopwords is already up-to-date!\n"
     ]
    },
    {
     "data": {
      "text/plain": [
       "True"
      ]
     },
     "execution_count": 1,
     "metadata": {},
     "output_type": "execute_result"
    }
   ],
   "source": [
    "import gensim\n",
    "import numpy as np\n",
    "import nltk\n",
    "import pandas as pd\n",
    "import warnings\n",
    "warnings.filterwarnings(\"ignore\")\n",
    "nltk.download('stopwords')"
   ]
  },
  {
   "cell_type": "markdown",
   "metadata": {},
   "source": [
    "### Importing DataSet"
   ]
  },
  {
   "cell_type": "code",
   "execution_count": 2,
   "metadata": {},
   "outputs": [
    {
     "data": {
      "text/html": [
       "<div>\n",
       "<style scoped>\n",
       "    .dataframe tbody tr th:only-of-type {\n",
       "        vertical-align: middle;\n",
       "    }\n",
       "\n",
       "    .dataframe tbody tr th {\n",
       "        vertical-align: top;\n",
       "    }\n",
       "\n",
       "    .dataframe thead th {\n",
       "        text-align: right;\n",
       "    }\n",
       "</style>\n",
       "<table border=\"1\" class=\"dataframe\">\n",
       "  <thead>\n",
       "    <tr style=\"text-align: right;\">\n",
       "      <th></th>\n",
       "      <th>description</th>\n",
       "      <th>file</th>\n",
       "      <th>polarity</th>\n",
       "      <th>text</th>\n",
       "      <th>truth</th>\n",
       "    </tr>\n",
       "  </thead>\n",
       "  <tbody>\n",
       "    <tr>\n",
       "      <th>0</th>\n",
       "      <td>hilton_1</td>\n",
       "      <td>\\negative_polarity\\deceptive_from_MTurk\\fold1\\...</td>\n",
       "      <td>False</td>\n",
       "      <td>We stayed at the Schicago Hilton for 4 days an...</td>\n",
       "      <td>False</td>\n",
       "    </tr>\n",
       "    <tr>\n",
       "      <th>1</th>\n",
       "      <td>hilton_10</td>\n",
       "      <td>\\negative_polarity\\deceptive_from_MTurk\\fold1\\...</td>\n",
       "      <td>False</td>\n",
       "      <td>Hotel is located 1/2 mile from the train stati...</td>\n",
       "      <td>False</td>\n",
       "    </tr>\n",
       "    <tr>\n",
       "      <th>2</th>\n",
       "      <td>hilton_11</td>\n",
       "      <td>\\negative_polarity\\deceptive_from_MTurk\\fold1\\...</td>\n",
       "      <td>False</td>\n",
       "      <td>I made my reservation at the Hilton Chicago be...</td>\n",
       "      <td>False</td>\n",
       "    </tr>\n",
       "    <tr>\n",
       "      <th>3</th>\n",
       "      <td>hilton_12</td>\n",
       "      <td>\\negative_polarity\\deceptive_from_MTurk\\fold1\\...</td>\n",
       "      <td>False</td>\n",
       "      <td>When most people think Hilton, they think luxu...</td>\n",
       "      <td>False</td>\n",
       "    </tr>\n",
       "    <tr>\n",
       "      <th>4</th>\n",
       "      <td>hilton_13</td>\n",
       "      <td>\\negative_polarity\\deceptive_from_MTurk\\fold1\\...</td>\n",
       "      <td>False</td>\n",
       "      <td>My husband and I recently stayed stayed at the...</td>\n",
       "      <td>False</td>\n",
       "    </tr>\n",
       "  </tbody>\n",
       "</table>\n",
       "</div>"
      ],
      "text/plain": [
       "  description                                               file  polarity  \\\n",
       "0    hilton_1  \\negative_polarity\\deceptive_from_MTurk\\fold1\\...     False   \n",
       "1   hilton_10  \\negative_polarity\\deceptive_from_MTurk\\fold1\\...     False   \n",
       "2   hilton_11  \\negative_polarity\\deceptive_from_MTurk\\fold1\\...     False   \n",
       "3   hilton_12  \\negative_polarity\\deceptive_from_MTurk\\fold1\\...     False   \n",
       "4   hilton_13  \\negative_polarity\\deceptive_from_MTurk\\fold1\\...     False   \n",
       "\n",
       "                                                text  truth  \n",
       "0  We stayed at the Schicago Hilton for 4 days an...  False  \n",
       "1  Hotel is located 1/2 mile from the train stati...  False  \n",
       "2  I made my reservation at the Hilton Chicago be...  False  \n",
       "3  When most people think Hilton, they think luxu...  False  \n",
       "4  My husband and I recently stayed stayed at the...  False  "
      ]
     },
     "execution_count": 2,
     "metadata": {},
     "output_type": "execute_result"
    }
   ],
   "source": [
    "df = pd.read_json(\"op_spam_v1.4.json\") ##file with all the data gathered togheter in a very nice way, provided by Arpad\n",
    "df.head()"
   ]
  },
  {
   "cell_type": "markdown",
   "metadata": {},
   "source": [
    "### Setting the dataframe"
   ]
  },
  {
   "cell_type": "code",
   "execution_count": 3,
   "metadata": {},
   "outputs": [],
   "source": [
    "df[\"truth\"][df[\"truth\"] == False], df[\"truth\"][df[\"truth\"] == True] = int(0), int(1)\n",
    "df[\"polarity\"][df[\"polarity\"] == False], df[\"polarity\"][df[\"polarity\"] == True] = int(0), int(1)\n",
    "df = df.drop([\"file\", \"description\"], axis=1)\n",
    "columnsTitles=[\"truth\",\"polarity\", \"text\"]\n",
    "df = df.reindex(columns=columnsTitles)"
   ]
  },
  {
   "cell_type": "markdown",
   "metadata": {},
   "source": [
    "## Data Cleaning\n",
    "### Tokenization"
   ]
  },
  {
   "cell_type": "code",
   "execution_count": 4,
   "metadata": {},
   "outputs": [
    {
     "data": {
      "text/html": [
       "<div>\n",
       "<style scoped>\n",
       "    .dataframe tbody tr th:only-of-type {\n",
       "        vertical-align: middle;\n",
       "    }\n",
       "\n",
       "    .dataframe tbody tr th {\n",
       "        vertical-align: top;\n",
       "    }\n",
       "\n",
       "    .dataframe thead th {\n",
       "        text-align: right;\n",
       "    }\n",
       "</style>\n",
       "<table border=\"1\" class=\"dataframe\">\n",
       "  <thead>\n",
       "    <tr style=\"text-align: right;\">\n",
       "      <th></th>\n",
       "      <th>truth</th>\n",
       "      <th>polarity</th>\n",
       "      <th>text</th>\n",
       "      <th>token</th>\n",
       "    </tr>\n",
       "  </thead>\n",
       "  <tbody>\n",
       "    <tr>\n",
       "      <th>0</th>\n",
       "      <td>0.0</td>\n",
       "      <td>0.0</td>\n",
       "      <td>We stayed at the Schicago Hilton for 4 days an...</td>\n",
       "      <td>[we, stayed, at, the, schicago, hilton, for, 4...</td>\n",
       "    </tr>\n",
       "    <tr>\n",
       "      <th>1</th>\n",
       "      <td>0.0</td>\n",
       "      <td>0.0</td>\n",
       "      <td>Hotel is located 1/2 mile from the train stati...</td>\n",
       "      <td>[hotel, is, located, 1/2, mile, from, the, tra...</td>\n",
       "    </tr>\n",
       "    <tr>\n",
       "      <th>2</th>\n",
       "      <td>0.0</td>\n",
       "      <td>0.0</td>\n",
       "      <td>I made my reservation at the Hilton Chicago be...</td>\n",
       "      <td>[i, made, my, reservation, at, the, hilton, ch...</td>\n",
       "    </tr>\n",
       "    <tr>\n",
       "      <th>3</th>\n",
       "      <td>0.0</td>\n",
       "      <td>0.0</td>\n",
       "      <td>When most people think Hilton, they think luxu...</td>\n",
       "      <td>[when, most, people, think, hilton, ,, they, t...</td>\n",
       "    </tr>\n",
       "    <tr>\n",
       "      <th>4</th>\n",
       "      <td>0.0</td>\n",
       "      <td>0.0</td>\n",
       "      <td>My husband and I recently stayed stayed at the...</td>\n",
       "      <td>[my, husband, and, i, recently, stayed, stayed...</td>\n",
       "    </tr>\n",
       "  </tbody>\n",
       "</table>\n",
       "</div>"
      ],
      "text/plain": [
       "   truth  polarity                                               text  \\\n",
       "0    0.0       0.0  We stayed at the Schicago Hilton for 4 days an...   \n",
       "1    0.0       0.0  Hotel is located 1/2 mile from the train stati...   \n",
       "2    0.0       0.0  I made my reservation at the Hilton Chicago be...   \n",
       "3    0.0       0.0  When most people think Hilton, they think luxu...   \n",
       "4    0.0       0.0  My husband and I recently stayed stayed at the...   \n",
       "\n",
       "                                               token  \n",
       "0  [we, stayed, at, the, schicago, hilton, for, 4...  \n",
       "1  [hotel, is, located, 1/2, mile, from, the, tra...  \n",
       "2  [i, made, my, reservation, at, the, hilton, ch...  \n",
       "3  [when, most, people, think, hilton, ,, they, t...  \n",
       "4  [my, husband, and, i, recently, stayed, stayed...  "
      ]
     },
     "execution_count": 4,
     "metadata": {},
     "output_type": "execute_result"
    }
   ],
   "source": [
    "df[\"token\"] = [nltk.word_tokenize(text) for text in df[\"text\"]]\n",
    "df[\"token\"] = df[\"token\"].apply(lambda l: [x.lower() for x in l])\n",
    "df.head()"
   ]
  },
  {
   "cell_type": "markdown",
   "metadata": {},
   "source": [
    "### Removing Stop-Words"
   ]
  },
  {
   "cell_type": "code",
   "execution_count": 5,
   "metadata": {},
   "outputs": [],
   "source": [
    "from nltk.corpus import stopwords \n",
    "stop_words = set(stopwords.words('english'))\n",
    "stop_words.remove(\"no\")\n",
    "stop_words.remove(\"not\")\n",
    "\n",
    "df[\"cleaned_token\"] = df[\"token\"].apply(lambda l: [x for x in l if x not in stop_words])"
   ]
  },
  {
   "cell_type": "markdown",
   "metadata": {},
   "source": [
    "### Removing punctuations"
   ]
  },
  {
   "cell_type": "code",
   "execution_count": 6,
   "metadata": {},
   "outputs": [
    {
     "data": {
      "text/html": [
       "<div>\n",
       "<style scoped>\n",
       "    .dataframe tbody tr th:only-of-type {\n",
       "        vertical-align: middle;\n",
       "    }\n",
       "\n",
       "    .dataframe tbody tr th {\n",
       "        vertical-align: top;\n",
       "    }\n",
       "\n",
       "    .dataframe thead th {\n",
       "        text-align: right;\n",
       "    }\n",
       "</style>\n",
       "<table border=\"1\" class=\"dataframe\">\n",
       "  <thead>\n",
       "    <tr style=\"text-align: right;\">\n",
       "      <th></th>\n",
       "      <th>truth</th>\n",
       "      <th>polarity</th>\n",
       "      <th>text</th>\n",
       "      <th>token</th>\n",
       "      <th>cleaned_token</th>\n",
       "    </tr>\n",
       "  </thead>\n",
       "  <tbody>\n",
       "    <tr>\n",
       "      <th>0</th>\n",
       "      <td>0.0</td>\n",
       "      <td>0.0</td>\n",
       "      <td>We stayed at the Schicago Hilton for 4 days an...</td>\n",
       "      <td>[we, stayed, at, the, schicago, hilton, for, 4...</td>\n",
       "      <td>[stayed, schicago, hilton, 4, days, 3, nights,...</td>\n",
       "    </tr>\n",
       "    <tr>\n",
       "      <th>1</th>\n",
       "      <td>0.0</td>\n",
       "      <td>0.0</td>\n",
       "      <td>Hotel is located 1/2 mile from the train stati...</td>\n",
       "      <td>[hotel, is, located, 1/2, mile, from, the, tra...</td>\n",
       "      <td>[hotel, located, 1/2, mile, train, station, qu...</td>\n",
       "    </tr>\n",
       "    <tr>\n",
       "      <th>2</th>\n",
       "      <td>0.0</td>\n",
       "      <td>0.0</td>\n",
       "      <td>I made my reservation at the Hilton Chicago be...</td>\n",
       "      <td>[i, made, my, reservation, at, the, hilton, ch...</td>\n",
       "      <td>[made, reservation, hilton, chicago, believing...</td>\n",
       "    </tr>\n",
       "    <tr>\n",
       "      <th>3</th>\n",
       "      <td>0.0</td>\n",
       "      <td>0.0</td>\n",
       "      <td>When most people think Hilton, they think luxu...</td>\n",
       "      <td>[when, most, people, think, hilton, ,, they, t...</td>\n",
       "      <td>[people, think, hilton, think, luxury, know, w...</td>\n",
       "    </tr>\n",
       "    <tr>\n",
       "      <th>4</th>\n",
       "      <td>0.0</td>\n",
       "      <td>0.0</td>\n",
       "      <td>My husband and I recently stayed stayed at the...</td>\n",
       "      <td>[my, husband, and, i, recently, stayed, stayed...</td>\n",
       "      <td>[husband, recently, stayed, stayed, hilton, ch...</td>\n",
       "    </tr>\n",
       "  </tbody>\n",
       "</table>\n",
       "</div>"
      ],
      "text/plain": [
       "   truth  polarity                                               text  \\\n",
       "0    0.0       0.0  We stayed at the Schicago Hilton for 4 days an...   \n",
       "1    0.0       0.0  Hotel is located 1/2 mile from the train stati...   \n",
       "2    0.0       0.0  I made my reservation at the Hilton Chicago be...   \n",
       "3    0.0       0.0  When most people think Hilton, they think luxu...   \n",
       "4    0.0       0.0  My husband and I recently stayed stayed at the...   \n",
       "\n",
       "                                               token  \\\n",
       "0  [we, stayed, at, the, schicago, hilton, for, 4...   \n",
       "1  [hotel, is, located, 1/2, mile, from, the, tra...   \n",
       "2  [i, made, my, reservation, at, the, hilton, ch...   \n",
       "3  [when, most, people, think, hilton, ,, they, t...   \n",
       "4  [my, husband, and, i, recently, stayed, stayed...   \n",
       "\n",
       "                                       cleaned_token  \n",
       "0  [stayed, schicago, hilton, 4, days, 3, nights,...  \n",
       "1  [hotel, located, 1/2, mile, train, station, qu...  \n",
       "2  [made, reservation, hilton, chicago, believing...  \n",
       "3  [people, think, hilton, think, luxury, know, w...  \n",
       "4  [husband, recently, stayed, stayed, hilton, ch...  "
      ]
     },
     "execution_count": 6,
     "metadata": {},
     "output_type": "execute_result"
    }
   ],
   "source": [
    "punkt = set([\".\", \",\", \":\", \"!\", \"?\", '\"', \";\", \"(\", \")\", \"...\", \"''\"])\n",
    "df[\"cleaned_token\"] = df[\"cleaned_token\"].apply(lambda l: [x for x in l if x not in punkt])\n",
    "df.head()"
   ]
  },
  {
   "cell_type": "markdown",
   "metadata": {},
   "source": [
    "### Displaying cleaned data"
   ]
  },
  {
   "cell_type": "code",
   "execution_count": 7,
   "metadata": {},
   "outputs": [
    {
     "data": {
      "text/html": [
       "<div>\n",
       "<style scoped>\n",
       "    .dataframe tbody tr th:only-of-type {\n",
       "        vertical-align: middle;\n",
       "    }\n",
       "\n",
       "    .dataframe tbody tr th {\n",
       "        vertical-align: top;\n",
       "    }\n",
       "\n",
       "    .dataframe thead th {\n",
       "        text-align: right;\n",
       "    }\n",
       "</style>\n",
       "<table border=\"1\" class=\"dataframe\">\n",
       "  <thead>\n",
       "    <tr style=\"text-align: right;\">\n",
       "      <th></th>\n",
       "      <th>truth</th>\n",
       "      <th>cleaned_text</th>\n",
       "    </tr>\n",
       "  </thead>\n",
       "  <tbody>\n",
       "    <tr>\n",
       "      <th>0</th>\n",
       "      <td>0.0</td>\n",
       "      <td>stayed schicago hilton 4 days 3 nights confere...</td>\n",
       "    </tr>\n",
       "    <tr>\n",
       "      <th>1</th>\n",
       "      <td>0.0</td>\n",
       "      <td>hotel located 1/2 mile train station quite hik...</td>\n",
       "    </tr>\n",
       "    <tr>\n",
       "      <th>2</th>\n",
       "      <td>0.0</td>\n",
       "      <td>made reservation hilton chicago believing goin...</td>\n",
       "    </tr>\n",
       "    <tr>\n",
       "      <th>3</th>\n",
       "      <td>0.0</td>\n",
       "      <td>people think hilton think luxury know wish 'd ...</td>\n",
       "    </tr>\n",
       "    <tr>\n",
       "      <th>4</th>\n",
       "      <td>0.0</td>\n",
       "      <td>husband recently stayed stayed hilton chicago ...</td>\n",
       "    </tr>\n",
       "  </tbody>\n",
       "</table>\n",
       "</div>"
      ],
      "text/plain": [
       "   truth                                       cleaned_text\n",
       "0    0.0  stayed schicago hilton 4 days 3 nights confere...\n",
       "1    0.0  hotel located 1/2 mile train station quite hik...\n",
       "2    0.0  made reservation hilton chicago believing goin...\n",
       "3    0.0  people think hilton think luxury know wish 'd ...\n",
       "4    0.0  husband recently stayed stayed hilton chicago ..."
      ]
     },
     "execution_count": 7,
     "metadata": {},
     "output_type": "execute_result"
    }
   ],
   "source": [
    "df[\"cleaned_text\"] = df[\"cleaned_token\"].apply(lambda text: \" \".join(text))\n",
    "df[[\"truth\", \"cleaned_text\"]].head()"
   ]
  },
  {
   "cell_type": "markdown",
   "metadata": {},
   "source": [
    "### Creating Word2Vec model"
   ]
  },
  {
   "cell_type": "code",
   "execution_count": 8,
   "metadata": {},
   "outputs": [
    {
     "data": {
      "text/plain": [
       "(1044873, 1234050)"
      ]
     },
     "execution_count": 8,
     "metadata": {},
     "output_type": "execute_result"
    }
   ],
   "source": [
    "# imports needed and set up logging\n",
    "import gensim \n",
    "model = gensim.models.Word2Vec (df[\"cleaned_token\"], size=150, window=10, min_count=2, workers=10)\n",
    "model.train(df[\"cleaned_token\"],total_examples=len(df[\"cleaned_token\"]),epochs=10)"
   ]
  },
  {
   "cell_type": "markdown",
   "metadata": {},
   "source": [
    "### Creating a features matrix based on Word2Vec"
   ]
  },
  {
   "cell_type": "code",
   "execution_count": 9,
   "metadata": {},
   "outputs": [
    {
     "data": {
      "text/html": [
       "<div>\n",
       "<style scoped>\n",
       "    .dataframe tbody tr th:only-of-type {\n",
       "        vertical-align: middle;\n",
       "    }\n",
       "\n",
       "    .dataframe tbody tr th {\n",
       "        vertical-align: top;\n",
       "    }\n",
       "\n",
       "    .dataframe thead th {\n",
       "        text-align: right;\n",
       "    }\n",
       "</style>\n",
       "<table border=\"1\" class=\"dataframe\">\n",
       "  <thead>\n",
       "    <tr style=\"text-align: right;\">\n",
       "      <th></th>\n",
       "      <th>00</th>\n",
       "      <th>000</th>\n",
       "      <th>00am</th>\n",
       "      <th>03</th>\n",
       "      <th>06</th>\n",
       "      <th>09</th>\n",
       "      <th>10</th>\n",
       "      <th>100</th>\n",
       "      <th>10pm</th>\n",
       "      <th>10th</th>\n",
       "      <th>...</th>\n",
       "      <th>york</th>\n",
       "      <th>you</th>\n",
       "      <th>young</th>\n",
       "      <th>younger</th>\n",
       "      <th>yuck</th>\n",
       "      <th>yummy</th>\n",
       "      <th>yup</th>\n",
       "      <th>zest</th>\n",
       "      <th>zone</th>\n",
       "      <th>zoo</th>\n",
       "    </tr>\n",
       "  </thead>\n",
       "  <tbody>\n",
       "    <tr>\n",
       "      <th>0</th>\n",
       "      <td>0.0</td>\n",
       "      <td>0.0</td>\n",
       "      <td>0.0</td>\n",
       "      <td>0.0</td>\n",
       "      <td>0.0</td>\n",
       "      <td>0.0</td>\n",
       "      <td>0.0</td>\n",
       "      <td>0.0</td>\n",
       "      <td>0.0</td>\n",
       "      <td>0.0</td>\n",
       "      <td>...</td>\n",
       "      <td>0.0</td>\n",
       "      <td>0.0</td>\n",
       "      <td>0.0</td>\n",
       "      <td>0.0</td>\n",
       "      <td>0.0</td>\n",
       "      <td>0.0</td>\n",
       "      <td>0.0</td>\n",
       "      <td>0.0</td>\n",
       "      <td>0.0</td>\n",
       "      <td>0.0</td>\n",
       "    </tr>\n",
       "    <tr>\n",
       "      <th>1</th>\n",
       "      <td>0.0</td>\n",
       "      <td>0.0</td>\n",
       "      <td>0.0</td>\n",
       "      <td>0.0</td>\n",
       "      <td>0.0</td>\n",
       "      <td>0.0</td>\n",
       "      <td>0.0</td>\n",
       "      <td>0.0</td>\n",
       "      <td>0.0</td>\n",
       "      <td>0.0</td>\n",
       "      <td>...</td>\n",
       "      <td>0.0</td>\n",
       "      <td>0.0</td>\n",
       "      <td>0.0</td>\n",
       "      <td>0.0</td>\n",
       "      <td>0.0</td>\n",
       "      <td>0.0</td>\n",
       "      <td>0.0</td>\n",
       "      <td>0.0</td>\n",
       "      <td>0.0</td>\n",
       "      <td>0.0</td>\n",
       "    </tr>\n",
       "    <tr>\n",
       "      <th>2</th>\n",
       "      <td>0.0</td>\n",
       "      <td>0.0</td>\n",
       "      <td>0.0</td>\n",
       "      <td>0.0</td>\n",
       "      <td>0.0</td>\n",
       "      <td>0.0</td>\n",
       "      <td>0.0</td>\n",
       "      <td>0.0</td>\n",
       "      <td>0.0</td>\n",
       "      <td>0.0</td>\n",
       "      <td>...</td>\n",
       "      <td>0.0</td>\n",
       "      <td>0.0</td>\n",
       "      <td>0.0</td>\n",
       "      <td>0.0</td>\n",
       "      <td>0.0</td>\n",
       "      <td>0.0</td>\n",
       "      <td>0.0</td>\n",
       "      <td>0.0</td>\n",
       "      <td>0.0</td>\n",
       "      <td>0.0</td>\n",
       "    </tr>\n",
       "    <tr>\n",
       "      <th>3</th>\n",
       "      <td>0.0</td>\n",
       "      <td>0.0</td>\n",
       "      <td>0.0</td>\n",
       "      <td>0.0</td>\n",
       "      <td>0.0</td>\n",
       "      <td>0.0</td>\n",
       "      <td>0.0</td>\n",
       "      <td>0.0</td>\n",
       "      <td>0.0</td>\n",
       "      <td>0.0</td>\n",
       "      <td>...</td>\n",
       "      <td>0.0</td>\n",
       "      <td>0.0</td>\n",
       "      <td>0.0</td>\n",
       "      <td>0.0</td>\n",
       "      <td>0.0</td>\n",
       "      <td>0.0</td>\n",
       "      <td>0.0</td>\n",
       "      <td>0.0</td>\n",
       "      <td>0.0</td>\n",
       "      <td>0.0</td>\n",
       "    </tr>\n",
       "    <tr>\n",
       "      <th>4</th>\n",
       "      <td>0.0</td>\n",
       "      <td>0.0</td>\n",
       "      <td>0.0</td>\n",
       "      <td>0.0</td>\n",
       "      <td>0.0</td>\n",
       "      <td>0.0</td>\n",
       "      <td>0.0</td>\n",
       "      <td>0.0</td>\n",
       "      <td>0.0</td>\n",
       "      <td>0.0</td>\n",
       "      <td>...</td>\n",
       "      <td>0.0</td>\n",
       "      <td>0.0</td>\n",
       "      <td>0.0</td>\n",
       "      <td>0.0</td>\n",
       "      <td>0.0</td>\n",
       "      <td>0.0</td>\n",
       "      <td>0.0</td>\n",
       "      <td>0.0</td>\n",
       "      <td>0.0</td>\n",
       "      <td>0.0</td>\n",
       "    </tr>\n",
       "  </tbody>\n",
       "</table>\n",
       "<p>5 rows × 5040 columns</p>\n",
       "</div>"
      ],
      "text/plain": [
       "    00  000  00am   03   06   09   10  100  10pm  10th ...   york  you  young  \\\n",
       "0  0.0  0.0   0.0  0.0  0.0  0.0  0.0  0.0   0.0   0.0 ...    0.0  0.0    0.0   \n",
       "1  0.0  0.0   0.0  0.0  0.0  0.0  0.0  0.0   0.0   0.0 ...    0.0  0.0    0.0   \n",
       "2  0.0  0.0   0.0  0.0  0.0  0.0  0.0  0.0   0.0   0.0 ...    0.0  0.0    0.0   \n",
       "3  0.0  0.0   0.0  0.0  0.0  0.0  0.0  0.0   0.0   0.0 ...    0.0  0.0    0.0   \n",
       "4  0.0  0.0   0.0  0.0  0.0  0.0  0.0  0.0   0.0   0.0 ...    0.0  0.0    0.0   \n",
       "\n",
       "   younger  yuck  yummy  yup  zest  zone  zoo  \n",
       "0      0.0   0.0    0.0  0.0   0.0   0.0  0.0  \n",
       "1      0.0   0.0    0.0  0.0   0.0   0.0  0.0  \n",
       "2      0.0   0.0    0.0  0.0   0.0   0.0  0.0  \n",
       "3      0.0   0.0    0.0  0.0   0.0   0.0  0.0  \n",
       "4      0.0   0.0    0.0  0.0   0.0   0.0  0.0  \n",
       "\n",
       "[5 rows x 5040 columns]"
      ]
     },
     "execution_count": 9,
     "metadata": {},
     "output_type": "execute_result"
    }
   ],
   "source": [
    "from sklearn.feature_extraction.text import TfidfVectorizer\n",
    "\n",
    "y = df[\"truth\"]\n",
    "texts = df[\"cleaned_text\"]\n",
    "\n",
    "tfidf = TfidfVectorizer(min_df = 2, max_df=0.5, ngram_range=(1, 1))\n",
    "features = tfidf.fit_transform(texts)\n",
    "df_BoW = pd.DataFrame(features.todense(), columns=tfidf.get_feature_names())\n",
    "df_BoW.head()"
   ]
  },
  {
   "cell_type": "markdown",
   "metadata": {},
   "source": [
    "### Features Matrix"
   ]
  },
  {
   "cell_type": "code",
   "execution_count": 10,
   "metadata": {},
   "outputs": [
    {
     "data": {
      "text/html": [
       "<div>\n",
       "<style scoped>\n",
       "    .dataframe tbody tr th:only-of-type {\n",
       "        vertical-align: middle;\n",
       "    }\n",
       "\n",
       "    .dataframe tbody tr th {\n",
       "        vertical-align: top;\n",
       "    }\n",
       "\n",
       "    .dataframe thead th {\n",
       "        text-align: right;\n",
       "    }\n",
       "</style>\n",
       "<table border=\"1\" class=\"dataframe\">\n",
       "  <thead>\n",
       "    <tr style=\"text-align: right;\">\n",
       "      <th></th>\n",
       "      <th>0</th>\n",
       "      <th>1</th>\n",
       "      <th>2</th>\n",
       "      <th>3</th>\n",
       "      <th>4</th>\n",
       "      <th>5</th>\n",
       "      <th>6</th>\n",
       "      <th>7</th>\n",
       "      <th>8</th>\n",
       "      <th>9</th>\n",
       "      <th>...</th>\n",
       "      <th>140</th>\n",
       "      <th>141</th>\n",
       "      <th>142</th>\n",
       "      <th>143</th>\n",
       "      <th>144</th>\n",
       "      <th>145</th>\n",
       "      <th>146</th>\n",
       "      <th>147</th>\n",
       "      <th>148</th>\n",
       "      <th>149</th>\n",
       "    </tr>\n",
       "  </thead>\n",
       "  <tbody>\n",
       "    <tr>\n",
       "      <th>0</th>\n",
       "      <td>3.301291</td>\n",
       "      <td>-1.310688</td>\n",
       "      <td>-1.028515</td>\n",
       "      <td>3.946842</td>\n",
       "      <td>0.994640</td>\n",
       "      <td>2.394836</td>\n",
       "      <td>-1.401939</td>\n",
       "      <td>2.235194</td>\n",
       "      <td>1.264514</td>\n",
       "      <td>1.204920</td>\n",
       "      <td>...</td>\n",
       "      <td>-1.578293</td>\n",
       "      <td>-2.559577</td>\n",
       "      <td>-3.578748</td>\n",
       "      <td>-1.626375</td>\n",
       "      <td>0.102438</td>\n",
       "      <td>0.876458</td>\n",
       "      <td>-0.615105</td>\n",
       "      <td>1.940946</td>\n",
       "      <td>-1.495639</td>\n",
       "      <td>-0.221758</td>\n",
       "    </tr>\n",
       "    <tr>\n",
       "      <th>1</th>\n",
       "      <td>2.974566</td>\n",
       "      <td>-0.969101</td>\n",
       "      <td>-1.829956</td>\n",
       "      <td>3.168387</td>\n",
       "      <td>0.613024</td>\n",
       "      <td>2.093634</td>\n",
       "      <td>-1.486030</td>\n",
       "      <td>0.862033</td>\n",
       "      <td>-0.067262</td>\n",
       "      <td>0.928526</td>\n",
       "      <td>...</td>\n",
       "      <td>-0.834564</td>\n",
       "      <td>-2.440647</td>\n",
       "      <td>-2.973548</td>\n",
       "      <td>-1.372067</td>\n",
       "      <td>0.213574</td>\n",
       "      <td>0.624334</td>\n",
       "      <td>-0.378146</td>\n",
       "      <td>1.487327</td>\n",
       "      <td>-1.263678</td>\n",
       "      <td>0.064092</td>\n",
       "    </tr>\n",
       "    <tr>\n",
       "      <th>2</th>\n",
       "      <td>2.481535</td>\n",
       "      <td>-1.511837</td>\n",
       "      <td>0.411421</td>\n",
       "      <td>3.678238</td>\n",
       "      <td>1.040714</td>\n",
       "      <td>1.739401</td>\n",
       "      <td>-0.554568</td>\n",
       "      <td>3.923674</td>\n",
       "      <td>3.555166</td>\n",
       "      <td>0.967276</td>\n",
       "      <td>...</td>\n",
       "      <td>-2.706031</td>\n",
       "      <td>-1.118232</td>\n",
       "      <td>-3.274258</td>\n",
       "      <td>-0.908321</td>\n",
       "      <td>-0.368791</td>\n",
       "      <td>0.427029</td>\n",
       "      <td>0.089328</td>\n",
       "      <td>2.938322</td>\n",
       "      <td>-1.863314</td>\n",
       "      <td>0.444025</td>\n",
       "    </tr>\n",
       "    <tr>\n",
       "      <th>3</th>\n",
       "      <td>1.996160</td>\n",
       "      <td>-1.306940</td>\n",
       "      <td>-0.052259</td>\n",
       "      <td>2.828125</td>\n",
       "      <td>0.538984</td>\n",
       "      <td>1.441703</td>\n",
       "      <td>-0.892123</td>\n",
       "      <td>1.896161</td>\n",
       "      <td>1.815773</td>\n",
       "      <td>0.662808</td>\n",
       "      <td>...</td>\n",
       "      <td>-1.964406</td>\n",
       "      <td>-1.349628</td>\n",
       "      <td>-2.717467</td>\n",
       "      <td>-0.975355</td>\n",
       "      <td>-0.176833</td>\n",
       "      <td>0.407477</td>\n",
       "      <td>-0.445982</td>\n",
       "      <td>1.337388</td>\n",
       "      <td>-0.771318</td>\n",
       "      <td>0.139588</td>\n",
       "    </tr>\n",
       "    <tr>\n",
       "      <th>4</th>\n",
       "      <td>2.453533</td>\n",
       "      <td>-1.089425</td>\n",
       "      <td>-0.178515</td>\n",
       "      <td>3.690831</td>\n",
       "      <td>1.240392</td>\n",
       "      <td>1.666581</td>\n",
       "      <td>-1.092013</td>\n",
       "      <td>3.225812</td>\n",
       "      <td>2.939562</td>\n",
       "      <td>1.064878</td>\n",
       "      <td>...</td>\n",
       "      <td>-2.271379</td>\n",
       "      <td>-1.497722</td>\n",
       "      <td>-3.112558</td>\n",
       "      <td>-0.967577</td>\n",
       "      <td>-0.259126</td>\n",
       "      <td>0.645578</td>\n",
       "      <td>-0.074187</td>\n",
       "      <td>2.576005</td>\n",
       "      <td>-1.760847</td>\n",
       "      <td>-0.011665</td>\n",
       "    </tr>\n",
       "  </tbody>\n",
       "</table>\n",
       "<p>5 rows × 150 columns</p>\n",
       "</div>"
      ],
      "text/plain": [
       "        0         1         2         3         4         5         6    \\\n",
       "0  3.301291 -1.310688 -1.028515  3.946842  0.994640  2.394836 -1.401939   \n",
       "1  2.974566 -0.969101 -1.829956  3.168387  0.613024  2.093634 -1.486030   \n",
       "2  2.481535 -1.511837  0.411421  3.678238  1.040714  1.739401 -0.554568   \n",
       "3  1.996160 -1.306940 -0.052259  2.828125  0.538984  1.441703 -0.892123   \n",
       "4  2.453533 -1.089425 -0.178515  3.690831  1.240392  1.666581 -1.092013   \n",
       "\n",
       "        7         8         9      ...          140       141       142  \\\n",
       "0  2.235194  1.264514  1.204920    ...    -1.578293 -2.559577 -3.578748   \n",
       "1  0.862033 -0.067262  0.928526    ...    -0.834564 -2.440647 -2.973548   \n",
       "2  3.923674  3.555166  0.967276    ...    -2.706031 -1.118232 -3.274258   \n",
       "3  1.896161  1.815773  0.662808    ...    -1.964406 -1.349628 -2.717467   \n",
       "4  3.225812  2.939562  1.064878    ...    -2.271379 -1.497722 -3.112558   \n",
       "\n",
       "        143       144       145       146       147       148       149  \n",
       "0 -1.626375  0.102438  0.876458 -0.615105  1.940946 -1.495639 -0.221758  \n",
       "1 -1.372067  0.213574  0.624334 -0.378146  1.487327 -1.263678  0.064092  \n",
       "2 -0.908321 -0.368791  0.427029  0.089328  2.938322 -1.863314  0.444025  \n",
       "3 -0.975355 -0.176833  0.407477 -0.445982  1.337388 -0.771318  0.139588  \n",
       "4 -0.967577 -0.259126  0.645578 -0.074187  2.576005 -1.760847 -0.011665  \n",
       "\n",
       "[5 rows x 150 columns]"
      ]
     },
     "execution_count": 10,
     "metadata": {},
     "output_type": "execute_result"
    }
   ],
   "source": [
    "mat_bow = df_BoW.values\n",
    "now_shape = np.shape(mat_bow)\n",
    "\n",
    "mat_emb = np.zeros((5040, 150))\n",
    "mat_range = np.arange(0, 5040)\n",
    "for i, j in zip(mat_range, list(df_BoW.columns.values)):\n",
    "    try:\n",
    "        mat_emb[i , :] = model[j]\n",
    "    except KeyError:\n",
    "        ak = 1\n",
    "        \n",
    "mat = np.dot(mat_bow, mat_emb)\n",
    "X = mat\n",
    "df_final = pd.DataFrame(mat)\n",
    "df_final.head()"
   ]
  },
  {
   "cell_type": "markdown",
   "metadata": {},
   "source": [
    "## Integrating two Deep Neural Networks: Word2Vec and Review-Classificator\n",
    "### Importing packages"
   ]
  },
  {
   "cell_type": "code",
   "execution_count": 11,
   "metadata": {},
   "outputs": [
    {
     "name": "stdout",
     "output_type": "stream",
     "text": [
      "Importing status: Done\n"
     ]
    }
   ],
   "source": [
    "from sklearn.neural_network import MLPClassifier\n",
    "from sklearn.model_selection import train_test_split\n",
    "from sklearn.metrics import f1_score\n",
    "from sklearn.metrics import precision_recall_fscore_support\n",
    "import graph_lib as gl\n",
    "print(\"Importing status: Done\")"
   ]
  },
  {
   "cell_type": "markdown",
   "metadata": {},
   "source": [
    "### Splitting Data into Training, Validation and Test set"
   ]
  },
  {
   "cell_type": "code",
   "execution_count": 12,
   "metadata": {},
   "outputs": [
    {
     "name": "stdout",
     "output_type": "stream",
     "text": [
      "Splitting procedure: Done\n",
      "Splitting procedure: Done\n"
     ]
    }
   ],
   "source": [
    "X_train, X_test = train_test_split(X, test_size=0.25, random_state=42)\n",
    "y_train, y_test = train_test_split(y, test_size=0.25, random_state=42)\n",
    "print(\"Splitting procedure: Done\")\n",
    "\n",
    "X_train_no_val, X_validation = train_test_split(X_train, test_size=1/3, random_state=42)\n",
    "y_train_no_val, y_validation = train_test_split(y_train, test_size=1/3, random_state=42)\n",
    "print(\"Splitting procedure: Done\")"
   ]
  },
  {
   "cell_type": "code",
   "execution_count": 13,
   "metadata": {},
   "outputs": [],
   "source": [
    "tot_len, tr_len, val_len, test_len = len(X), len(X_train_no_val), len(X_validation), len(X_test) \n",
    "\n",
    "matrix = np.matrix([tr_len, val_len, test_len, \n",
    "                    int((tr_len/tot_len)*100), int((val_len/tot_len)*100), int((test_len/tot_len)*100)],\n",
    "                   dtype=int)"
   ]
  },
  {
   "cell_type": "code",
   "execution_count": 14,
   "metadata": {},
   "outputs": [
    {
     "data": {
      "text/html": [
       "<div>\n",
       "<style scoped>\n",
       "    .dataframe tbody tr th:only-of-type {\n",
       "        vertical-align: middle;\n",
       "    }\n",
       "\n",
       "    .dataframe tbody tr th {\n",
       "        vertical-align: top;\n",
       "    }\n",
       "\n",
       "    .dataframe thead th {\n",
       "        text-align: right;\n",
       "    }\n",
       "</style>\n",
       "<table border=\"1\" class=\"dataframe\">\n",
       "  <thead>\n",
       "    <tr style=\"text-align: right;\">\n",
       "      <th></th>\n",
       "      <th>Number of elements</th>\n",
       "      <th>Percent on total dataset (%)</th>\n",
       "    </tr>\n",
       "  </thead>\n",
       "  <tbody>\n",
       "    <tr>\n",
       "      <th>Train</th>\n",
       "      <td>800</td>\n",
       "      <td>50</td>\n",
       "    </tr>\n",
       "    <tr>\n",
       "      <th>Validation</th>\n",
       "      <td>400</td>\n",
       "      <td>25</td>\n",
       "    </tr>\n",
       "    <tr>\n",
       "      <th>Test</th>\n",
       "      <td>400</td>\n",
       "      <td>25</td>\n",
       "    </tr>\n",
       "  </tbody>\n",
       "</table>\n",
       "</div>"
      ],
      "text/plain": [
       "            Number of elements  Percent on total dataset (%)\n",
       "Train                      800                            50\n",
       "Validation                 400                            25\n",
       "Test                       400                            25"
      ]
     },
     "execution_count": 14,
     "metadata": {},
     "output_type": "execute_result"
    }
   ],
   "source": [
    "df_n = pd.DataFrame(np.transpose(np.reshape(matrix, (2,3))), \n",
    "                    columns=[\"Number of elements\", \"Percent on total dataset (%)\"],\n",
    "                    index=[\"Train\", \"Validation\", \"Test\"])\n",
    "df_n"
   ]
  },
  {
   "cell_type": "markdown",
   "metadata": {},
   "source": [
    "### Validating procedure"
   ]
  },
  {
   "cell_type": "code",
   "execution_count": null,
   "metadata": {},
   "outputs": [
    {
     "name": "stdout",
     "output_type": "stream",
     "text": [
      "Starting validation procedure:\n",
      "\n",
      "\n",
      "Found a new best architecture, now displaying results:\n",
      "Neruons on 1st Layer: 3\n",
      "Neurons on 2nd Layer: 3\n",
      "Accurancy on test: 0.7725\n",
      "Guessed right: 309 on a totol of: 400\n",
      "\n",
      "\n",
      "Found a new best architecture, now displaying results:\n",
      "Neruons on 1st Layer: 3\n",
      "Neurons on 2nd Layer: 10\n",
      "Accurancy on test: 0.78\n",
      "Guessed right: 312 on a totol of: 400\n",
      "\n",
      "\n",
      "Found a new best architecture, now displaying results:\n",
      "Neruons on 1st Layer: 3\n",
      "Neurons on 2nd Layer: 11\n",
      "Accurancy on test: 0.785\n",
      "Guessed right: 314 on a totol of: 400\n",
      "\n",
      "\n",
      "Found a new best architecture, now displaying results:\n",
      "Neruons on 1st Layer: 3\n",
      "Neurons on 2nd Layer: 13\n",
      "Accurancy on test: 0.79\n",
      "Guessed right: 316 on a totol of: 400\n",
      "\n",
      "\n",
      "Found a new best architecture, now displaying results:\n",
      "Neruons on 1st Layer: 3\n",
      "Neurons on 2nd Layer: 27\n",
      "Accurancy on test: 0.8125\n",
      "Guessed right: 325 on a totol of: 400\n",
      "\n",
      "Status: 10%\n"
     ]
    }
   ],
   "source": [
    "import time\n",
    "start_time = time.time()\n",
    "\n",
    "result = np.zeros((3, 30*30))\n",
    "n_mod = 0\n",
    "max_acc = 0\n",
    "\n",
    "print(\"Starting validation procedure:\")\n",
    "print(\"\")\n",
    "\n",
    "for i in range(3, 33):\n",
    "    for j in range(3, 33):\n",
    "        clf = MLPClassifier(solver='lbfgs', alpha=1/10000,\n",
    "                            hidden_layer_sizes= (i,j), random_state=42, learning_rate = 'adaptive')\n",
    "        clf.fit(X_train_no_val, y_train_no_val)\n",
    "        \n",
    "        res = clf.predict(X_validation)\n",
    "        count = 0\n",
    "        zipped = zip(res, y_validation)\n",
    "        for a, b in zipped:\n",
    "            if a == b:\n",
    "                count += 1\n",
    "        \n",
    "        acc_on_test = count/len(y_validation)\n",
    "        result[0, n_mod] = acc_on_test\n",
    "        result[1, n_mod] = i\n",
    "        result[2, n_mod] = j\n",
    "        \n",
    "        n_mod += 1\n",
    "        \n",
    "        if acc_on_test > max_acc:\n",
    "            max_acc = acc_on_test\n",
    "            print(\"\\nFound a new best architecture, now displaying results:\")\n",
    "            print(\"Neruons on 1st Layer: {}\\nNeurons on 2nd Layer: {}\\nAccurancy on test: {}\"\n",
    "                  .format(i, j, acc_on_test))\n",
    "            print(\"Guessed right: {} on a totol of: {}\\n\".format(count, len(y_validation)))\n",
    "    \n",
    "    if i == 5:\n",
    "        print(\"Status: {}%\".format(10))\n",
    "    elif i == 8:\n",
    "        print(\"Status: {}%\".format(20))\n",
    "    elif i == 11:\n",
    "        print(\"Status: {}%\".format(30))\n",
    "    elif i == 14:\n",
    "        print(\"Status: {}%\".format(40))\n",
    "    elif i == 17:\n",
    "        print(\"Status: {}%\".format(50))\n",
    "    elif i == 20:\n",
    "        print(\"Status: {}%\".format(60))\n",
    "    elif i == 23:\n",
    "        print(\"Status: {}%\".format(70))\n",
    "    elif i == 26:\n",
    "        print(\"Status: {}%\".format(80))\n",
    "    elif i == 29:\n",
    "        print(\"Status: {}%\".format(90))\n",
    "    elif i == 32:\n",
    "        print(\"Status: {}%\".format(100))\n",
    "\n",
    "print(\"Validation procedure: Done\\n\")\n",
    "print(\"__________________________________________________\\n\")\n",
    "best = np.max(result[0, :])\n",
    "the_alpha_where = np.where(result[0, :] == best)\n",
    "the_i = result[1, the_alpha_where[0][0]]\n",
    "the_j = result[2, the_alpha_where[0][0]]\n",
    "\n",
    "print(\"--- %s seconds ---\" % (time.time() - start_time))\n",
    "print(\"__________________________________________________\\n\")\n",
    "print(\"Best result is:\\nNeurons on 1st Layer: {}\\nNeurons on 2nd Layer: {}\\nAccurancy on test: {}\"\n",
    "              .format(the_i, the_j, best))"
   ]
  },
  {
   "cell_type": "markdown",
   "metadata": {},
   "source": [
    "### Testing"
   ]
  },
  {
   "cell_type": "code",
   "execution_count": 46,
   "metadata": {},
   "outputs": [
    {
     "name": "stdout",
     "output_type": "stream",
     "text": [
      "Neural Network has been trained\n",
      "Neural Network has been tested\n"
     ]
    }
   ],
   "source": [
    "clf = MLPClassifier(solver='lbfgs', alpha=0.0001,\n",
    "                    hidden_layer_sizes=(9, 3), random_state=42, learning_rate = 'adaptive')\n",
    "\n",
    "clf.fit(X_train, y_train)\n",
    "print(\"Neural Network has been trained\")\n",
    "result = clf.predict(X_test)\n",
    "print(\"Neural Network has been tested\")"
   ]
  },
  {
   "cell_type": "code",
   "execution_count": 47,
   "metadata": {},
   "outputs": [
    {
     "name": "stdout",
     "output_type": "stream",
     "text": [
      "Accurancy on test: 0.785\n",
      "F Score on test: 0.786\n",
      "With 314 right classified items over a test set of 400\n"
     ]
    }
   ],
   "source": [
    "training_score = clf.score(X_train, y_train)\n",
    "training_F_score = f1_score(y_train, clf.predict(X_train))\n",
    "test_score = np.round(clf.score(X_test, y_test, sample_weight=None), 3)\n",
    "test_F_score = np.round(f1_score(y_test, clf.predict(X_test)), 3)\n",
    "validation_score = clf.score(X_validation, y_validation, sample_weight=None)\n",
    "validation_F_score = f1_score(y_validation, clf.predict(X_validation))\n",
    "\n",
    "print(\"Accurancy on test: {}\\nF Score on test: {}\\nWith {} right classified items over a test set of {}\"\n",
    "      .format(test_score, test_F_score,int(test_score*len(y_test)), len(y_test)))"
   ]
  },
  {
   "cell_type": "markdown",
   "metadata": {},
   "source": [
    "### Displaying Result"
   ]
  },
  {
   "cell_type": "code",
   "execution_count": 48,
   "metadata": {},
   "outputs": [
    {
     "data": {
      "text/html": [
       "<div>\n",
       "<style scoped>\n",
       "    .dataframe tbody tr th:only-of-type {\n",
       "        vertical-align: middle;\n",
       "    }\n",
       "\n",
       "    .dataframe tbody tr th {\n",
       "        vertical-align: top;\n",
       "    }\n",
       "\n",
       "    .dataframe thead th {\n",
       "        text-align: right;\n",
       "    }\n",
       "</style>\n",
       "<table border=\"1\" class=\"dataframe\">\n",
       "  <thead>\n",
       "    <tr style=\"text-align: right;\">\n",
       "      <th></th>\n",
       "      <th>Number of elements</th>\n",
       "      <th>Percent on total dataset (%)</th>\n",
       "      <th>Accurancy</th>\n",
       "      <th>F score</th>\n",
       "    </tr>\n",
       "  </thead>\n",
       "  <tbody>\n",
       "    <tr>\n",
       "      <th>Train</th>\n",
       "      <td>800</td>\n",
       "      <td>50</td>\n",
       "      <td>0.81</td>\n",
       "      <td>0.81</td>\n",
       "    </tr>\n",
       "    <tr>\n",
       "      <th>Validation</th>\n",
       "      <td>400</td>\n",
       "      <td>25</td>\n",
       "      <td>0.80</td>\n",
       "      <td>0.80</td>\n",
       "    </tr>\n",
       "    <tr>\n",
       "      <th>Test</th>\n",
       "      <td>400</td>\n",
       "      <td>25</td>\n",
       "      <td>0.78</td>\n",
       "      <td>0.79</td>\n",
       "    </tr>\n",
       "  </tbody>\n",
       "</table>\n",
       "</div>"
      ],
      "text/plain": [
       "            Number of elements  Percent on total dataset (%)  Accurancy  \\\n",
       "Train                      800                            50       0.81   \n",
       "Validation                 400                            25       0.80   \n",
       "Test                       400                            25       0.78   \n",
       "\n",
       "            F score  \n",
       "Train          0.81  \n",
       "Validation     0.80  \n",
       "Test           0.79  "
      ]
     },
     "execution_count": 48,
     "metadata": {},
     "output_type": "execute_result"
    }
   ],
   "source": [
    "mat = np.round(np.matrix([[training_score, validation_score, test_score],\n",
    "                         [training_F_score, validation_F_score, test_F_score]]), 2)\n",
    "mat = np.transpose(mat)\n",
    "\n",
    "df_res = pd.DataFrame(mat, columns=[\"Accurancy\", \"F score\"], index=[\"Train\", \"Validation\", \"Test\"])\n",
    "df_res_total = pd.concat([df_n, df_res], axis=1, join_axes=[df_n.index])\n",
    "df_res_total"
   ]
  },
  {
   "cell_type": "markdown",
   "metadata": {},
   "source": [
    "### Confusion Matrix"
   ]
  },
  {
   "cell_type": "code",
   "execution_count": 49,
   "metadata": {},
   "outputs": [
    {
     "data": {
      "image/png": "[encoded data removed]",
      "text/plain": [
       "<Figure size 432x288 with 2 Axes>"
      ]
     },
     "metadata": {
      "needs_background": "light"
     },
     "output_type": "display_data"
    }
   ],
   "source": [
    "conf_matr_list = gl.plot_matrice_di_confusione(y_test, clf.predict(X_test), ['0', '1']) ##Plot function provided by M. Scia"
   ]
  },
  {
   "cell_type": "markdown",
   "metadata": {},
   "source": [
    "### ROC Curve area"
   ]
  },
  {
   "cell_type": "code",
   "execution_count": 50,
   "metadata": {},
   "outputs": [
    {
     "data": {
      "image/png": "[encoded data removed]",
      "text/plain": [
       "<Figure size 1440x432 with 1 Axes>"
      ]
     },
     "metadata": {
      "needs_background": "light"
     },
     "output_type": "display_data"
    }
   ],
   "source": [
    "gl.plot_roc_curve(y_test, clf.predict(X_test), label='Multi Layer Perceptron')"
   ]
  },
  {
   "cell_type": "markdown",
   "metadata": {},
   "source": [
    "### Saving model"
   ]
  },
  {
   "cell_type": "code",
   "execution_count": 51,
   "metadata": {},
   "outputs": [],
   "source": [
    "df_results = pd.DataFrame.from_csv(\"my_result.txt\")\n",
    "df_results[\"Word2Vec\"] = np.round([test_score, test_F_score], 3)\n",
    "df_results.to_csv(\"my_result.txt\")"
   ]
  },
  {
   "cell_type": "code",
   "execution_count": 53,
   "metadata": {},
   "outputs": [
    {
     "data": {
      "text/html": [
       "<div>\n",
       "<style scoped>\n",
       "    .dataframe tbody tr th:only-of-type {\n",
       "        vertical-align: middle;\n",
       "    }\n",
       "\n",
       "    .dataframe tbody tr th {\n",
       "        vertical-align: top;\n",
       "    }\n",
       "\n",
       "    .dataframe thead th {\n",
       "        text-align: right;\n",
       "    }\n",
       "</style>\n",
       "<table border=\"1\" class=\"dataframe\">\n",
       "  <thead>\n",
       "    <tr style=\"text-align: right;\">\n",
       "      <th></th>\n",
       "      <th>Local_true</th>\n",
       "      <th>Local_pred</th>\n",
       "      <th>tf-idf_true</th>\n",
       "      <th>tf-idf_pred</th>\n",
       "      <th>W2C_true</th>\n",
       "      <th>W2C_pred</th>\n",
       "    </tr>\n",
       "  </thead>\n",
       "  <tbody>\n",
       "    <tr>\n",
       "      <th>0</th>\n",
       "      <td>1</td>\n",
       "      <td>1</td>\n",
       "      <td>1.0</td>\n",
       "      <td>1.0</td>\n",
       "      <td>1.0</td>\n",
       "      <td>1.0</td>\n",
       "    </tr>\n",
       "    <tr>\n",
       "      <th>1</th>\n",
       "      <td>0</td>\n",
       "      <td>0</td>\n",
       "      <td>0.0</td>\n",
       "      <td>0.0</td>\n",
       "      <td>0.0</td>\n",
       "      <td>0.0</td>\n",
       "    </tr>\n",
       "    <tr>\n",
       "      <th>2</th>\n",
       "      <td>0</td>\n",
       "      <td>0</td>\n",
       "      <td>0.0</td>\n",
       "      <td>0.0</td>\n",
       "      <td>0.0</td>\n",
       "      <td>0.0</td>\n",
       "    </tr>\n",
       "    <tr>\n",
       "      <th>3</th>\n",
       "      <td>0</td>\n",
       "      <td>0</td>\n",
       "      <td>0.0</td>\n",
       "      <td>0.0</td>\n",
       "      <td>0.0</td>\n",
       "      <td>0.0</td>\n",
       "    </tr>\n",
       "    <tr>\n",
       "      <th>4</th>\n",
       "      <td>0</td>\n",
       "      <td>0</td>\n",
       "      <td>0.0</td>\n",
       "      <td>0.0</td>\n",
       "      <td>0.0</td>\n",
       "      <td>0.0</td>\n",
       "    </tr>\n",
       "  </tbody>\n",
       "</table>\n",
       "</div>"
      ],
      "text/plain": [
       "   Local_true  Local_pred  tf-idf_true  tf-idf_pred  W2C_true  W2C_pred\n",
       "0           1           1          1.0          1.0       1.0       1.0\n",
       "1           0           0          0.0          0.0       0.0       0.0\n",
       "2           0           0          0.0          0.0       0.0       0.0\n",
       "3           0           0          0.0          0.0       0.0       0.0\n",
       "4           0           0          0.0          0.0       0.0       0.0"
      ]
     },
     "execution_count": 53,
     "metadata": {},
     "output_type": "execute_result"
    }
   ],
   "source": [
    "df_roc = pd.DataFrame.from_csv(\"roc_table.csv\")\n",
    "df_roc[\"W2C_true\"] = y_test.values\n",
    "df_roc[\"W2C_pred\"] = clf.predict(X_test)\n",
    "df_roc.to_csv(\"roc_table.csv\")\n",
    "df_roc.head()"
   ]
  }
 ],
 "metadata": {
  "kernelspec": {
   "display_name": "Python 3",
   "language": "python",
   "name": "python3"
  },
  "language_info": {
   "codemirror_mode": {
    "name": "ipython",
    "version": 3
   },
   "file_extension": ".py",
   "mimetype": "text/x-python",
   "name": "python",
   "nbconvert_exporter": "python",
   "pygments_lexer": "ipython3",
   "version": "3.6.8"
  }
 },
 "nbformat": 4,
 "nbformat_minor": 2
}

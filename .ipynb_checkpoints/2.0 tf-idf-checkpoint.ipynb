{
 "cells": [
  {
   "cell_type": "markdown",
   "metadata": {},
   "source": [
    "## Francesco Grimaldi\n",
    "\n",
    "# 2.0) N-Grams & tf-idf\n",
    "\n",
    "Here you will find the code to the N-Grams & tf-idf features model. It's dived in six step:\n",
    "- Step 0: Importing the data and basic libraries\n",
    "- Step 1: Data pre-processing\n",
    "- Step 2: Creating N-Grams\n",
    "- Step 3: MultiLayer Perceptron Classifier\n",
    "- Step 4: Results\n",
    "- Step 5: Saving the Model"
   ]
  },
  {
   "cell_type": "markdown",
   "metadata": {},
   "source": [
    "## Step 0: Importing the data and basic libraries"
   ]
  },
  {
   "cell_type": "code",
   "execution_count": 1,
   "metadata": {
    "scrolled": true
   },
   "outputs": [
    {
     "name": "stdout",
     "output_type": "stream",
     "text": [
      "[nltk_data] Downloading package stopwords to\n",
      "[nltk_data]     C:\\Users\\fgrim\\AppData\\Roaming\\nltk_data...\n",
      "[nltk_data]   Package stopwords is already up-to-date!\n"
     ]
    },
    {
     "data": {
      "text/plain": [
       "True"
      ]
     },
     "execution_count": 1,
     "metadata": {},
     "output_type": "execute_result"
    }
   ],
   "source": [
    "import numpy as np\n",
    "import pandas as pd\n",
    "import nltk\n",
    "import warnings\n",
    "warnings.filterwarnings(\"ignore\")\n",
    "nltk.download('stopwords')"
   ]
  },
  {
   "cell_type": "markdown",
   "metadata": {},
   "source": [
    "### Import Raw Data  "
   ]
  },
  {
   "cell_type": "code",
   "execution_count": 2,
   "metadata": {
    "scrolled": true
   },
   "outputs": [
    {
     "data": {
      "text/html": [
       "<div>\n",
       "<style scoped>\n",
       "    .dataframe tbody tr th:only-of-type {\n",
       "        vertical-align: middle;\n",
       "    }\n",
       "\n",
       "    .dataframe tbody tr th {\n",
       "        vertical-align: top;\n",
       "    }\n",
       "\n",
       "    .dataframe thead th {\n",
       "        text-align: right;\n",
       "    }\n",
       "</style>\n",
       "<table border=\"1\" class=\"dataframe\">\n",
       "  <thead>\n",
       "    <tr style=\"text-align: right;\">\n",
       "      <th></th>\n",
       "      <th>description</th>\n",
       "      <th>file</th>\n",
       "      <th>polarity</th>\n",
       "      <th>text</th>\n",
       "      <th>truth</th>\n",
       "    </tr>\n",
       "  </thead>\n",
       "  <tbody>\n",
       "    <tr>\n",
       "      <th>0</th>\n",
       "      <td>hilton_1</td>\n",
       "      <td>\\negative_polarity\\deceptive_from_MTurk\\fold1\\...</td>\n",
       "      <td>False</td>\n",
       "      <td>We stayed at the Schicago Hilton for 4 days an...</td>\n",
       "      <td>False</td>\n",
       "    </tr>\n",
       "    <tr>\n",
       "      <th>1</th>\n",
       "      <td>hilton_10</td>\n",
       "      <td>\\negative_polarity\\deceptive_from_MTurk\\fold1\\...</td>\n",
       "      <td>False</td>\n",
       "      <td>Hotel is located 1/2 mile from the train stati...</td>\n",
       "      <td>False</td>\n",
       "    </tr>\n",
       "    <tr>\n",
       "      <th>2</th>\n",
       "      <td>hilton_11</td>\n",
       "      <td>\\negative_polarity\\deceptive_from_MTurk\\fold1\\...</td>\n",
       "      <td>False</td>\n",
       "      <td>I made my reservation at the Hilton Chicago be...</td>\n",
       "      <td>False</td>\n",
       "    </tr>\n",
       "    <tr>\n",
       "      <th>3</th>\n",
       "      <td>hilton_12</td>\n",
       "      <td>\\negative_polarity\\deceptive_from_MTurk\\fold1\\...</td>\n",
       "      <td>False</td>\n",
       "      <td>When most people think Hilton, they think luxu...</td>\n",
       "      <td>False</td>\n",
       "    </tr>\n",
       "    <tr>\n",
       "      <th>4</th>\n",
       "      <td>hilton_13</td>\n",
       "      <td>\\negative_polarity\\deceptive_from_MTurk\\fold1\\...</td>\n",
       "      <td>False</td>\n",
       "      <td>My husband and I recently stayed stayed at the...</td>\n",
       "      <td>False</td>\n",
       "    </tr>\n",
       "  </tbody>\n",
       "</table>\n",
       "</div>"
      ],
      "text/plain": [
       "  description                                               file  polarity  \\\n",
       "0    hilton_1  \\negative_polarity\\deceptive_from_MTurk\\fold1\\...     False   \n",
       "1   hilton_10  \\negative_polarity\\deceptive_from_MTurk\\fold1\\...     False   \n",
       "2   hilton_11  \\negative_polarity\\deceptive_from_MTurk\\fold1\\...     False   \n",
       "3   hilton_12  \\negative_polarity\\deceptive_from_MTurk\\fold1\\...     False   \n",
       "4   hilton_13  \\negative_polarity\\deceptive_from_MTurk\\fold1\\...     False   \n",
       "\n",
       "                                                text  truth  \n",
       "0  We stayed at the Schicago Hilton for 4 days an...  False  \n",
       "1  Hotel is located 1/2 mile from the train stati...  False  \n",
       "2  I made my reservation at the Hilton Chicago be...  False  \n",
       "3  When most people think Hilton, they think luxu...  False  \n",
       "4  My husband and I recently stayed stayed at the...  False  "
      ]
     },
     "execution_count": 2,
     "metadata": {},
     "output_type": "execute_result"
    }
   ],
   "source": [
    "df = pd.read_json(\"op_spam_v1.4.json\") ##file with all the data gathered togheter in a very nice way, provided by Arpad\n",
    "df.head()"
   ]
  },
  {
   "cell_type": "markdown",
   "metadata": {},
   "source": [
    "## Step 1: Data  pre-processing\n",
    "\n",
    "Transform our data in something meaningful for our Deep Learning Classifier"
   ]
  },
  {
   "cell_type": "markdown",
   "metadata": {},
   "source": [
    "### Data transformation\n",
    "\n",
    "Transforming polarity and truth in 0 and 1, dropping path and description"
   ]
  },
  {
   "cell_type": "code",
   "execution_count": 3,
   "metadata": {},
   "outputs": [
    {
     "data": {
      "text/html": [
       "<div>\n",
       "<style scoped>\n",
       "    .dataframe tbody tr th:only-of-type {\n",
       "        vertical-align: middle;\n",
       "    }\n",
       "\n",
       "    .dataframe tbody tr th {\n",
       "        vertical-align: top;\n",
       "    }\n",
       "\n",
       "    .dataframe thead th {\n",
       "        text-align: right;\n",
       "    }\n",
       "</style>\n",
       "<table border=\"1\" class=\"dataframe\">\n",
       "  <thead>\n",
       "    <tr style=\"text-align: right;\">\n",
       "      <th></th>\n",
       "      <th>truth</th>\n",
       "      <th>polarity</th>\n",
       "      <th>text</th>\n",
       "    </tr>\n",
       "  </thead>\n",
       "  <tbody>\n",
       "    <tr>\n",
       "      <th>0</th>\n",
       "      <td>0.0</td>\n",
       "      <td>0.0</td>\n",
       "      <td>We stayed at the Schicago Hilton for 4 days an...</td>\n",
       "    </tr>\n",
       "    <tr>\n",
       "      <th>1</th>\n",
       "      <td>0.0</td>\n",
       "      <td>0.0</td>\n",
       "      <td>Hotel is located 1/2 mile from the train stati...</td>\n",
       "    </tr>\n",
       "    <tr>\n",
       "      <th>2</th>\n",
       "      <td>0.0</td>\n",
       "      <td>0.0</td>\n",
       "      <td>I made my reservation at the Hilton Chicago be...</td>\n",
       "    </tr>\n",
       "    <tr>\n",
       "      <th>3</th>\n",
       "      <td>0.0</td>\n",
       "      <td>0.0</td>\n",
       "      <td>When most people think Hilton, they think luxu...</td>\n",
       "    </tr>\n",
       "    <tr>\n",
       "      <th>4</th>\n",
       "      <td>0.0</td>\n",
       "      <td>0.0</td>\n",
       "      <td>My husband and I recently stayed stayed at the...</td>\n",
       "    </tr>\n",
       "  </tbody>\n",
       "</table>\n",
       "</div>"
      ],
      "text/plain": [
       "   truth  polarity                                               text\n",
       "0    0.0       0.0  We stayed at the Schicago Hilton for 4 days an...\n",
       "1    0.0       0.0  Hotel is located 1/2 mile from the train stati...\n",
       "2    0.0       0.0  I made my reservation at the Hilton Chicago be...\n",
       "3    0.0       0.0  When most people think Hilton, they think luxu...\n",
       "4    0.0       0.0  My husband and I recently stayed stayed at the..."
      ]
     },
     "execution_count": 3,
     "metadata": {},
     "output_type": "execute_result"
    }
   ],
   "source": [
    "df[\"truth\"][df[\"truth\"] == False], df[\"truth\"][df[\"truth\"] == True] = int(0), int(1)\n",
    "df[\"polarity\"][df[\"polarity\"] == False], df[\"polarity\"][df[\"polarity\"] == True] = int(0), int(1)\n",
    "\n",
    "df = df.drop([\"file\", \"description\"], axis=1)\n",
    "columnsTitles=[\"truth\",\"polarity\", \"text\"]\n",
    "\n",
    "df = df.reindex(columns=columnsTitles)\n",
    "df.head()"
   ]
  },
  {
   "cell_type": "markdown",
   "metadata": {},
   "source": [
    "### Tokenization\n",
    "\n",
    "Using nltk package in order to tokenize the documents. The tokenize methods separate punctuations so that: \"word,\" goes to two token: \"word\" and \",\""
   ]
  },
  {
   "cell_type": "code",
   "execution_count": 4,
   "metadata": {},
   "outputs": [
    {
     "data": {
      "text/html": [
       "<div>\n",
       "<style scoped>\n",
       "    .dataframe tbody tr th:only-of-type {\n",
       "        vertical-align: middle;\n",
       "    }\n",
       "\n",
       "    .dataframe tbody tr th {\n",
       "        vertical-align: top;\n",
       "    }\n",
       "\n",
       "    .dataframe thead th {\n",
       "        text-align: right;\n",
       "    }\n",
       "</style>\n",
       "<table border=\"1\" class=\"dataframe\">\n",
       "  <thead>\n",
       "    <tr style=\"text-align: right;\">\n",
       "      <th></th>\n",
       "      <th>truth</th>\n",
       "      <th>polarity</th>\n",
       "      <th>text</th>\n",
       "      <th>token</th>\n",
       "    </tr>\n",
       "  </thead>\n",
       "  <tbody>\n",
       "    <tr>\n",
       "      <th>0</th>\n",
       "      <td>0.0</td>\n",
       "      <td>0.0</td>\n",
       "      <td>We stayed at the Schicago Hilton for 4 days an...</td>\n",
       "      <td>[We, stayed, at, the, Schicago, Hilton, for, 4...</td>\n",
       "    </tr>\n",
       "    <tr>\n",
       "      <th>1</th>\n",
       "      <td>0.0</td>\n",
       "      <td>0.0</td>\n",
       "      <td>Hotel is located 1/2 mile from the train stati...</td>\n",
       "      <td>[Hotel, is, located, 1/2, mile, from, the, tra...</td>\n",
       "    </tr>\n",
       "    <tr>\n",
       "      <th>2</th>\n",
       "      <td>0.0</td>\n",
       "      <td>0.0</td>\n",
       "      <td>I made my reservation at the Hilton Chicago be...</td>\n",
       "      <td>[I, made, my, reservation, at, the, Hilton, Ch...</td>\n",
       "    </tr>\n",
       "    <tr>\n",
       "      <th>3</th>\n",
       "      <td>0.0</td>\n",
       "      <td>0.0</td>\n",
       "      <td>When most people think Hilton, they think luxu...</td>\n",
       "      <td>[When, most, people, think, Hilton, ,, they, t...</td>\n",
       "    </tr>\n",
       "    <tr>\n",
       "      <th>4</th>\n",
       "      <td>0.0</td>\n",
       "      <td>0.0</td>\n",
       "      <td>My husband and I recently stayed stayed at the...</td>\n",
       "      <td>[My, husband, and, I, recently, stayed, stayed...</td>\n",
       "    </tr>\n",
       "  </tbody>\n",
       "</table>\n",
       "</div>"
      ],
      "text/plain": [
       "   truth  polarity                                               text  \\\n",
       "0    0.0       0.0  We stayed at the Schicago Hilton for 4 days an...   \n",
       "1    0.0       0.0  Hotel is located 1/2 mile from the train stati...   \n",
       "2    0.0       0.0  I made my reservation at the Hilton Chicago be...   \n",
       "3    0.0       0.0  When most people think Hilton, they think luxu...   \n",
       "4    0.0       0.0  My husband and I recently stayed stayed at the...   \n",
       "\n",
       "                                               token  \n",
       "0  [We, stayed, at, the, Schicago, Hilton, for, 4...  \n",
       "1  [Hotel, is, located, 1/2, mile, from, the, tra...  \n",
       "2  [I, made, my, reservation, at, the, Hilton, Ch...  \n",
       "3  [When, most, people, think, Hilton, ,, they, t...  \n",
       "4  [My, husband, and, I, recently, stayed, stayed...  "
      ]
     },
     "execution_count": 4,
     "metadata": {},
     "output_type": "execute_result"
    }
   ],
   "source": [
    "df[\"token\"] = [nltk.word_tokenize(text) for text in df[\"text\"]]\n",
    "#df[\"token\"] = df[\"token\"].apply(lambda l: [x.lower() for x in l])\n",
    "df.head()"
   ]
  },
  {
   "cell_type": "markdown",
   "metadata": {},
   "source": [
    "### Removing Stop Words\n",
    "\n",
    "Stop words are not informative words, such as: \"at\", \"and\", \"or\" etc...\n",
    "For this reason we can remove them without compromizing our features"
   ]
  },
  {
   "cell_type": "code",
   "execution_count": 5,
   "metadata": {},
   "outputs": [
    {
     "name": "stdout",
     "output_type": "stream",
     "text": [
      "Removing Stop-Words procedure: Done\n"
     ]
    }
   ],
   "source": [
    "from nltk.corpus import stopwords \n",
    "stop_words = set(stopwords.words('english'))\n",
    "stop_words.remove(\"no\")\n",
    "stop_words.remove(\"not\")\n",
    "\n",
    "df[\"no_StopWord_token\"] = df[\"token\"].apply(lambda l: [x for x in l if x not in stop_words])\n",
    "print(\"Removing Stop-Words procedure: Done\")"
   ]
  },
  {
   "cell_type": "markdown",
   "metadata": {},
   "source": [
    "### Removing punctuations"
   ]
  },
  {
   "cell_type": "code",
   "execution_count": 6,
   "metadata": {},
   "outputs": [],
   "source": [
    "puntk = set([\".\", \",\", \":\", \"!\", \"?\", '\"', \";\", \"(\", \")\", \"...\", \"''\"])\n",
    "df[\"no_StopWord_token\"] = df[\"no_StopWord_token\"].apply(lambda l: [x for x in l if x not in puntk])"
   ]
  },
  {
   "cell_type": "code",
   "execution_count": 7,
   "metadata": {},
   "outputs": [
    {
     "data": {
      "text/html": [
       "<div>\n",
       "<style scoped>\n",
       "    .dataframe tbody tr th:only-of-type {\n",
       "        vertical-align: middle;\n",
       "    }\n",
       "\n",
       "    .dataframe tbody tr th {\n",
       "        vertical-align: top;\n",
       "    }\n",
       "\n",
       "    .dataframe thead th {\n",
       "        text-align: right;\n",
       "    }\n",
       "</style>\n",
       "<table border=\"1\" class=\"dataframe\">\n",
       "  <thead>\n",
       "    <tr style=\"text-align: right;\">\n",
       "      <th></th>\n",
       "      <th>truth</th>\n",
       "      <th>polarity</th>\n",
       "      <th>no_StopWord_token</th>\n",
       "    </tr>\n",
       "  </thead>\n",
       "  <tbody>\n",
       "    <tr>\n",
       "      <th>0</th>\n",
       "      <td>0.0</td>\n",
       "      <td>0.0</td>\n",
       "      <td>[We, stayed, Schicago, Hilton, 4, days, 3, nig...</td>\n",
       "    </tr>\n",
       "    <tr>\n",
       "      <th>1</th>\n",
       "      <td>0.0</td>\n",
       "      <td>0.0</td>\n",
       "      <td>[Hotel, located, 1/2, mile, train, station, qu...</td>\n",
       "    </tr>\n",
       "    <tr>\n",
       "      <th>2</th>\n",
       "      <td>0.0</td>\n",
       "      <td>0.0</td>\n",
       "      <td>[I, made, reservation, Hilton, Chicago, believ...</td>\n",
       "    </tr>\n",
       "    <tr>\n",
       "      <th>3</th>\n",
       "      <td>0.0</td>\n",
       "      <td>0.0</td>\n",
       "      <td>[When, people, think, Hilton, think, luxury, I...</td>\n",
       "    </tr>\n",
       "    <tr>\n",
       "      <th>4</th>\n",
       "      <td>0.0</td>\n",
       "      <td>0.0</td>\n",
       "      <td>[My, husband, I, recently, stayed, stayed, Hil...</td>\n",
       "    </tr>\n",
       "  </tbody>\n",
       "</table>\n",
       "</div>"
      ],
      "text/plain": [
       "   truth  polarity                                  no_StopWord_token\n",
       "0    0.0       0.0  [We, stayed, Schicago, Hilton, 4, days, 3, nig...\n",
       "1    0.0       0.0  [Hotel, located, 1/2, mile, train, station, qu...\n",
       "2    0.0       0.0  [I, made, reservation, Hilton, Chicago, believ...\n",
       "3    0.0       0.0  [When, people, think, Hilton, think, luxury, I...\n",
       "4    0.0       0.0  [My, husband, I, recently, stayed, stayed, Hil..."
      ]
     },
     "execution_count": 7,
     "metadata": {},
     "output_type": "execute_result"
    }
   ],
   "source": [
    "text = df[\"no_StopWord_token\"]\n",
    "df[[\"truth\", \"polarity\", \"no_StopWord_token\"]].head()"
   ]
  },
  {
   "cell_type": "code",
   "execution_count": 8,
   "metadata": {},
   "outputs": [
    {
     "data": {
      "text/html": [
       "<div>\n",
       "<style scoped>\n",
       "    .dataframe tbody tr th:only-of-type {\n",
       "        vertical-align: middle;\n",
       "    }\n",
       "\n",
       "    .dataframe tbody tr th {\n",
       "        vertical-align: top;\n",
       "    }\n",
       "\n",
       "    .dataframe thead th {\n",
       "        text-align: right;\n",
       "    }\n",
       "</style>\n",
       "<table border=\"1\" class=\"dataframe\">\n",
       "  <thead>\n",
       "    <tr style=\"text-align: right;\">\n",
       "      <th></th>\n",
       "      <th>truth</th>\n",
       "      <th>polarity</th>\n",
       "      <th>text</th>\n",
       "      <th>token</th>\n",
       "      <th>no_StopWord_token</th>\n",
       "    </tr>\n",
       "  </thead>\n",
       "  <tbody>\n",
       "    <tr>\n",
       "      <th>0</th>\n",
       "      <td>0.0</td>\n",
       "      <td>0.0</td>\n",
       "      <td>We stayed at the Schicago Hilton for 4 days an...</td>\n",
       "      <td>[We, stayed, at, the, Schicago, Hilton, for, 4...</td>\n",
       "      <td>[we, stay, schicago, hilton, 4, day, 3, night,...</td>\n",
       "    </tr>\n",
       "    <tr>\n",
       "      <th>1</th>\n",
       "      <td>0.0</td>\n",
       "      <td>0.0</td>\n",
       "      <td>Hotel is located 1/2 mile from the train stati...</td>\n",
       "      <td>[Hotel, is, located, 1/2, mile, from, the, tra...</td>\n",
       "      <td>[hotel, locat, 1/2, mile, train, station, quit...</td>\n",
       "    </tr>\n",
       "    <tr>\n",
       "      <th>2</th>\n",
       "      <td>0.0</td>\n",
       "      <td>0.0</td>\n",
       "      <td>I made my reservation at the Hilton Chicago be...</td>\n",
       "      <td>[I, made, my, reservation, at, the, Hilton, Ch...</td>\n",
       "      <td>[i, made, reserv, hilton, chicago, believ, i, ...</td>\n",
       "    </tr>\n",
       "    <tr>\n",
       "      <th>3</th>\n",
       "      <td>0.0</td>\n",
       "      <td>0.0</td>\n",
       "      <td>When most people think Hilton, they think luxu...</td>\n",
       "      <td>[When, most, people, think, Hilton, ,, they, t...</td>\n",
       "      <td>[when, peopl, think, hilton, think, luxuri, i,...</td>\n",
       "    </tr>\n",
       "    <tr>\n",
       "      <th>4</th>\n",
       "      <td>0.0</td>\n",
       "      <td>0.0</td>\n",
       "      <td>My husband and I recently stayed stayed at the...</td>\n",
       "      <td>[My, husband, and, I, recently, stayed, stayed...</td>\n",
       "      <td>[my, husband, i, recent, stay, stay, hilton, c...</td>\n",
       "    </tr>\n",
       "  </tbody>\n",
       "</table>\n",
       "</div>"
      ],
      "text/plain": [
       "   truth  polarity                                               text  \\\n",
       "0    0.0       0.0  We stayed at the Schicago Hilton for 4 days an...   \n",
       "1    0.0       0.0  Hotel is located 1/2 mile from the train stati...   \n",
       "2    0.0       0.0  I made my reservation at the Hilton Chicago be...   \n",
       "3    0.0       0.0  When most people think Hilton, they think luxu...   \n",
       "4    0.0       0.0  My husband and I recently stayed stayed at the...   \n",
       "\n",
       "                                               token  \\\n",
       "0  [We, stayed, at, the, Schicago, Hilton, for, 4...   \n",
       "1  [Hotel, is, located, 1/2, mile, from, the, tra...   \n",
       "2  [I, made, my, reservation, at, the, Hilton, Ch...   \n",
       "3  [When, most, people, think, Hilton, ,, they, t...   \n",
       "4  [My, husband, and, I, recently, stayed, stayed...   \n",
       "\n",
       "                                   no_StopWord_token  \n",
       "0  [we, stay, schicago, hilton, 4, day, 3, night,...  \n",
       "1  [hotel, locat, 1/2, mile, train, station, quit...  \n",
       "2  [i, made, reserv, hilton, chicago, believ, i, ...  \n",
       "3  [when, peopl, think, hilton, think, luxuri, i,...  \n",
       "4  [my, husband, i, recent, stay, stay, hilton, c...  "
      ]
     },
     "execution_count": 8,
     "metadata": {},
     "output_type": "execute_result"
    }
   ],
   "source": [
    "sno = nltk.stem.SnowballStemmer('english')\n",
    "df[\"no_StopWord_token\"] = df[\"no_StopWord_token\"].apply(lambda l: [sno.stem(x) for x in l])\n",
    "df.head()"
   ]
  },
  {
   "cell_type": "markdown",
   "metadata": {},
   "source": [
    "## Step 2: Creating N-Grams\n",
    "\n",
    "Creating as a features for our classifier an input based on Bag of Words, with n-grams which go from 1 to 3. <br>\n",
    "\n",
    "### Retransforming token in String\n",
    "\n",
    "Some data pre-processing"
   ]
  },
  {
   "cell_type": "code",
   "execution_count": 9,
   "metadata": {
    "scrolled": true
   },
   "outputs": [
    {
     "data": {
      "text/html": [
       "<div>\n",
       "<style scoped>\n",
       "    .dataframe tbody tr th:only-of-type {\n",
       "        vertical-align: middle;\n",
       "    }\n",
       "\n",
       "    .dataframe tbody tr th {\n",
       "        vertical-align: top;\n",
       "    }\n",
       "\n",
       "    .dataframe thead th {\n",
       "        text-align: right;\n",
       "    }\n",
       "</style>\n",
       "<table border=\"1\" class=\"dataframe\">\n",
       "  <thead>\n",
       "    <tr style=\"text-align: right;\">\n",
       "      <th></th>\n",
       "      <th>truth</th>\n",
       "      <th>polarity</th>\n",
       "      <th>text_without_SW</th>\n",
       "    </tr>\n",
       "  </thead>\n",
       "  <tbody>\n",
       "    <tr>\n",
       "      <th>0</th>\n",
       "      <td>0.0</td>\n",
       "      <td>0.0</td>\n",
       "      <td>we stay schicago hilton 4 day 3 night confer i...</td>\n",
       "    </tr>\n",
       "    <tr>\n",
       "      <th>1</th>\n",
       "      <td>0.0</td>\n",
       "      <td>0.0</td>\n",
       "      <td>hotel locat 1/2 mile train station quit hike r...</td>\n",
       "    </tr>\n",
       "    <tr>\n",
       "      <th>2</th>\n",
       "      <td>0.0</td>\n",
       "      <td>0.0</td>\n",
       "      <td>i made reserv hilton chicago believ i go stay ...</td>\n",
       "    </tr>\n",
       "    <tr>\n",
       "      <th>3</th>\n",
       "      <td>0.0</td>\n",
       "      <td>0.0</td>\n",
       "      <td>when peopl think hilton think luxuri i know i ...</td>\n",
       "    </tr>\n",
       "    <tr>\n",
       "      <th>4</th>\n",
       "      <td>0.0</td>\n",
       "      <td>0.0</td>\n",
       "      <td>my husband i recent stay stay hilton chicago h...</td>\n",
       "    </tr>\n",
       "  </tbody>\n",
       "</table>\n",
       "</div>"
      ],
      "text/plain": [
       "   truth  polarity                                    text_without_SW\n",
       "0    0.0       0.0  we stay schicago hilton 4 day 3 night confer i...\n",
       "1    0.0       0.0  hotel locat 1/2 mile train station quit hike r...\n",
       "2    0.0       0.0  i made reserv hilton chicago believ i go stay ...\n",
       "3    0.0       0.0  when peopl think hilton think luxuri i know i ...\n",
       "4    0.0       0.0  my husband i recent stay stay hilton chicago h..."
      ]
     },
     "execution_count": 9,
     "metadata": {},
     "output_type": "execute_result"
    }
   ],
   "source": [
    "text_wo_SW = []\n",
    "\n",
    "for text in df[\"no_StopWord_token\"]:\n",
    "    text_wo_SW.append(\" \".join(text))\n",
    "\n",
    "df[\"text_without_SW\"] = text_wo_SW\n",
    "df[[\"truth\", \"polarity\", \"text_without_SW\"]].head()"
   ]
  },
  {
   "cell_type": "markdown",
   "metadata": {},
   "source": [
    "### Creating DF of Bag Of Words and N-grams\n",
    "\n",
    "tf-idf is used to calculate \"the importance\" of each n-gram in each document and then normalized by each row\n",
    "<br> Furthermore n-gramm too much frequent or too less frequent are removed as they are not meaningful."
   ]
  },
  {
   "cell_type": "code",
   "execution_count": 10,
   "metadata": {},
   "outputs": [
    {
     "name": "stdout",
     "output_type": "stream",
     "text": [
      "'tf-idf procedure: Done'\n"
     ]
    }
   ],
   "source": [
    "from sklearn.feature_extraction.text import TfidfVectorizer\n",
    "texts = df[\"text_without_SW\"]\n",
    "tfidf = TfidfVectorizer(min_df = 3, max_df=0.5, ngram_range=(1, 2))\n",
    "features = tfidf.fit_transform(texts)\n",
    "print(\"'tf-idf procedure: Done'\")"
   ]
  },
  {
   "cell_type": "code",
   "execution_count": 11,
   "metadata": {},
   "outputs": [
    {
     "data": {
      "text/html": [
       "<div>\n",
       "<style scoped>\n",
       "    .dataframe tbody tr th:only-of-type {\n",
       "        vertical-align: middle;\n",
       "    }\n",
       "\n",
       "    .dataframe tbody tr th {\n",
       "        vertical-align: top;\n",
       "    }\n",
       "\n",
       "    .dataframe thead th {\n",
       "        text-align: right;\n",
       "    }\n",
       "</style>\n",
       "<table border=\"1\" class=\"dataframe\">\n",
       "  <thead>\n",
       "    <tr style=\"text-align: right;\">\n",
       "      <th></th>\n",
       "      <th>00</th>\n",
       "      <th>00 night</th>\n",
       "      <th>00 per</th>\n",
       "      <th>00 pm</th>\n",
       "      <th>000</th>\n",
       "      <th>10</th>\n",
       "      <th>10 10</th>\n",
       "      <th>10 15</th>\n",
       "      <th>10 30</th>\n",
       "      <th>10 day</th>\n",
       "      <th>...</th>\n",
       "      <th>you re</th>\n",
       "      <th>you take</th>\n",
       "      <th>young</th>\n",
       "      <th>young woman</th>\n",
       "      <th>younger</th>\n",
       "      <th>your</th>\n",
       "      <th>yuck</th>\n",
       "      <th>yummi</th>\n",
       "      <th>zest</th>\n",
       "      <th>zone</th>\n",
       "    </tr>\n",
       "  </thead>\n",
       "  <tbody>\n",
       "    <tr>\n",
       "      <th>0</th>\n",
       "      <td>0.0</td>\n",
       "      <td>0.0</td>\n",
       "      <td>0.0</td>\n",
       "      <td>0.0</td>\n",
       "      <td>0.0</td>\n",
       "      <td>0.0</td>\n",
       "      <td>0.0</td>\n",
       "      <td>0.0</td>\n",
       "      <td>0.0</td>\n",
       "      <td>0.0</td>\n",
       "      <td>...</td>\n",
       "      <td>0.0</td>\n",
       "      <td>0.0</td>\n",
       "      <td>0.0</td>\n",
       "      <td>0.0</td>\n",
       "      <td>0.0</td>\n",
       "      <td>0.0</td>\n",
       "      <td>0.0</td>\n",
       "      <td>0.0</td>\n",
       "      <td>0.0</td>\n",
       "      <td>0.0</td>\n",
       "    </tr>\n",
       "    <tr>\n",
       "      <th>1</th>\n",
       "      <td>0.0</td>\n",
       "      <td>0.0</td>\n",
       "      <td>0.0</td>\n",
       "      <td>0.0</td>\n",
       "      <td>0.0</td>\n",
       "      <td>0.0</td>\n",
       "      <td>0.0</td>\n",
       "      <td>0.0</td>\n",
       "      <td>0.0</td>\n",
       "      <td>0.0</td>\n",
       "      <td>...</td>\n",
       "      <td>0.0</td>\n",
       "      <td>0.0</td>\n",
       "      <td>0.0</td>\n",
       "      <td>0.0</td>\n",
       "      <td>0.0</td>\n",
       "      <td>0.0</td>\n",
       "      <td>0.0</td>\n",
       "      <td>0.0</td>\n",
       "      <td>0.0</td>\n",
       "      <td>0.0</td>\n",
       "    </tr>\n",
       "    <tr>\n",
       "      <th>2</th>\n",
       "      <td>0.0</td>\n",
       "      <td>0.0</td>\n",
       "      <td>0.0</td>\n",
       "      <td>0.0</td>\n",
       "      <td>0.0</td>\n",
       "      <td>0.0</td>\n",
       "      <td>0.0</td>\n",
       "      <td>0.0</td>\n",
       "      <td>0.0</td>\n",
       "      <td>0.0</td>\n",
       "      <td>...</td>\n",
       "      <td>0.0</td>\n",
       "      <td>0.0</td>\n",
       "      <td>0.0</td>\n",
       "      <td>0.0</td>\n",
       "      <td>0.0</td>\n",
       "      <td>0.0</td>\n",
       "      <td>0.0</td>\n",
       "      <td>0.0</td>\n",
       "      <td>0.0</td>\n",
       "      <td>0.0</td>\n",
       "    </tr>\n",
       "    <tr>\n",
       "      <th>3</th>\n",
       "      <td>0.0</td>\n",
       "      <td>0.0</td>\n",
       "      <td>0.0</td>\n",
       "      <td>0.0</td>\n",
       "      <td>0.0</td>\n",
       "      <td>0.0</td>\n",
       "      <td>0.0</td>\n",
       "      <td>0.0</td>\n",
       "      <td>0.0</td>\n",
       "      <td>0.0</td>\n",
       "      <td>...</td>\n",
       "      <td>0.0</td>\n",
       "      <td>0.0</td>\n",
       "      <td>0.0</td>\n",
       "      <td>0.0</td>\n",
       "      <td>0.0</td>\n",
       "      <td>0.0</td>\n",
       "      <td>0.0</td>\n",
       "      <td>0.0</td>\n",
       "      <td>0.0</td>\n",
       "      <td>0.0</td>\n",
       "    </tr>\n",
       "    <tr>\n",
       "      <th>4</th>\n",
       "      <td>0.0</td>\n",
       "      <td>0.0</td>\n",
       "      <td>0.0</td>\n",
       "      <td>0.0</td>\n",
       "      <td>0.0</td>\n",
       "      <td>0.0</td>\n",
       "      <td>0.0</td>\n",
       "      <td>0.0</td>\n",
       "      <td>0.0</td>\n",
       "      <td>0.0</td>\n",
       "      <td>...</td>\n",
       "      <td>0.0</td>\n",
       "      <td>0.0</td>\n",
       "      <td>0.0</td>\n",
       "      <td>0.0</td>\n",
       "      <td>0.0</td>\n",
       "      <td>0.0</td>\n",
       "      <td>0.0</td>\n",
       "      <td>0.0</td>\n",
       "      <td>0.0</td>\n",
       "      <td>0.0</td>\n",
       "    </tr>\n",
       "  </tbody>\n",
       "</table>\n",
       "<p>5 rows × 9729 columns</p>\n",
       "</div>"
      ],
      "text/plain": [
       "    00  00 night  00 per  00 pm  000   10  10 10  10 15  10 30  10 day  ...   \\\n",
       "0  0.0       0.0     0.0    0.0  0.0  0.0    0.0    0.0    0.0     0.0  ...    \n",
       "1  0.0       0.0     0.0    0.0  0.0  0.0    0.0    0.0    0.0     0.0  ...    \n",
       "2  0.0       0.0     0.0    0.0  0.0  0.0    0.0    0.0    0.0     0.0  ...    \n",
       "3  0.0       0.0     0.0    0.0  0.0  0.0    0.0    0.0    0.0     0.0  ...    \n",
       "4  0.0       0.0     0.0    0.0  0.0  0.0    0.0    0.0    0.0     0.0  ...    \n",
       "\n",
       "   you re  you take  young  young woman  younger  your  yuck  yummi  zest  \\\n",
       "0     0.0       0.0    0.0          0.0      0.0   0.0   0.0    0.0   0.0   \n",
       "1     0.0       0.0    0.0          0.0      0.0   0.0   0.0    0.0   0.0   \n",
       "2     0.0       0.0    0.0          0.0      0.0   0.0   0.0    0.0   0.0   \n",
       "3     0.0       0.0    0.0          0.0      0.0   0.0   0.0    0.0   0.0   \n",
       "4     0.0       0.0    0.0          0.0      0.0   0.0   0.0    0.0   0.0   \n",
       "\n",
       "   zone  \n",
       "0   0.0  \n",
       "1   0.0  \n",
       "2   0.0  \n",
       "3   0.0  \n",
       "4   0.0  \n",
       "\n",
       "[5 rows x 9729 columns]"
      ]
     },
     "execution_count": 11,
     "metadata": {},
     "output_type": "execute_result"
    }
   ],
   "source": [
    "df_BoW = pd.DataFrame(features.todense(), columns=tfidf.get_feature_names())\n",
    "df_BoW[\"truth\"] = df[\"truth\"]\n",
    "df_BoW.head(5)"
   ]
  },
  {
   "cell_type": "code",
   "execution_count": 12,
   "metadata": {},
   "outputs": [],
   "source": [
    "X = df_BoW.drop(['truth'], axis=1)\n",
    "y = df_BoW['truth']"
   ]
  },
  {
   "cell_type": "markdown",
   "metadata": {},
   "source": [
    "## Step 3: MultiLayer Perceptron Classifier\n",
    "\n",
    "MLP is one of the most used Deep Learning algorithm for NLP. It's based on cross-entropy and for that is full of local minimum, but never the less it's the best one in terms of result and \"friendliness\""
   ]
  },
  {
   "cell_type": "code",
   "execution_count": 13,
   "metadata": {},
   "outputs": [
    {
     "name": "stdout",
     "output_type": "stream",
     "text": [
      "Importing status: Done\n"
     ]
    }
   ],
   "source": [
    "from sklearn.neural_network import MLPClassifier\n",
    "from sklearn.model_selection import train_test_split\n",
    "from sklearn.metrics import f1_score\n",
    "from sklearn.metrics import precision_recall_fscore_support\n",
    "import graph_lib as gl\n",
    "import matplotlib.pyplot as plt\n",
    "print(\"Importing status: Done\")"
   ]
  },
  {
   "cell_type": "markdown",
   "metadata": {},
   "source": [
    "### Applying PCA\n",
    "\n",
    "Applying the Principal Components Analysis to make the algorith speed up and clustering the enourmos quantity of features. The least variance the reduced model is the 95% of the original one"
   ]
  },
  {
   "cell_type": "code",
   "execution_count": 14,
   "metadata": {},
   "outputs": [
    {
     "name": "stdout",
     "output_type": "stream",
     "text": [
      "PCA has been completed\n",
      "Number of inputs: 1342\n"
     ]
    }
   ],
   "source": [
    "from sklearn.decomposition import PCA\n",
    "pca = PCA(0.95)\n",
    "pca.fit(X)\n",
    "X = pca.transform(X)\n",
    "print(\"PCA has been completed\")\n",
    "print(\"Number of inputs: {}\".format(np.shape(X)[1]))"
   ]
  },
  {
   "cell_type": "markdown",
   "metadata": {},
   "source": [
    "### Split into Training, Validation and Test set \n",
    "\n",
    "The data is now splitted in three set: training set, validation set and test set. <br>\n",
    "The training set is meant to train the model, the validation is meant for tuning the hyper parameters and the test set to testing our model. <br>\n",
    "The reviews are distributed as follows: 800 reviews for training, 400 for validation and the remaining 400 for testing  "
   ]
  },
  {
   "cell_type": "code",
   "execution_count": 15,
   "metadata": {
    "scrolled": true
   },
   "outputs": [
    {
     "name": "stdout",
     "output_type": "stream",
     "text": [
      "Splitting procedure: Done\n",
      "Splitting procedure: Done\n"
     ]
    }
   ],
   "source": [
    "X_train, X_test = train_test_split(X, test_size=0.25, random_state=42)\n",
    "y_train, y_test = train_test_split(y, test_size=0.25, random_state=42)\n",
    "print(\"Splitting procedure: Done\")\n",
    "\n",
    "X_train_no_val, X_validation = train_test_split(X_train, test_size=1/3, random_state=42)\n",
    "y_train_no_val, y_validation = train_test_split(y_train, test_size=1/3, random_state=42)\n",
    "print(\"Splitting procedure: Done\")"
   ]
  },
  {
   "cell_type": "markdown",
   "metadata": {},
   "source": [
    "### Table of splitted data"
   ]
  },
  {
   "cell_type": "code",
   "execution_count": 16,
   "metadata": {},
   "outputs": [],
   "source": [
    "tot_len, tr_len, val_len, test_len = len(X), len(X_train_no_val), len(X_validation), len(X_test) \n",
    "\n",
    "matrix = np.matrix([tr_len, val_len, test_len, \n",
    "                    int((tr_len/tot_len)*100), int((val_len/tot_len)*100), int((test_len/tot_len)*100)],\n",
    "                   dtype=int)"
   ]
  },
  {
   "cell_type": "code",
   "execution_count": 17,
   "metadata": {},
   "outputs": [
    {
     "data": {
      "text/html": [
       "<div>\n",
       "<style scoped>\n",
       "    .dataframe tbody tr th:only-of-type {\n",
       "        vertical-align: middle;\n",
       "    }\n",
       "\n",
       "    .dataframe tbody tr th {\n",
       "        vertical-align: top;\n",
       "    }\n",
       "\n",
       "    .dataframe thead th {\n",
       "        text-align: right;\n",
       "    }\n",
       "</style>\n",
       "<table border=\"1\" class=\"dataframe\">\n",
       "  <thead>\n",
       "    <tr style=\"text-align: right;\">\n",
       "      <th></th>\n",
       "      <th>Number of elements</th>\n",
       "      <th>Percent on total dataset (%)</th>\n",
       "    </tr>\n",
       "  </thead>\n",
       "  <tbody>\n",
       "    <tr>\n",
       "      <th>Train</th>\n",
       "      <td>800</td>\n",
       "      <td>50</td>\n",
       "    </tr>\n",
       "    <tr>\n",
       "      <th>Validation</th>\n",
       "      <td>400</td>\n",
       "      <td>25</td>\n",
       "    </tr>\n",
       "    <tr>\n",
       "      <th>Test</th>\n",
       "      <td>400</td>\n",
       "      <td>25</td>\n",
       "    </tr>\n",
       "  </tbody>\n",
       "</table>\n",
       "</div>"
      ],
      "text/plain": [
       "            Number of elements  Percent on total dataset (%)\n",
       "Train                      800                            50\n",
       "Validation                 400                            25\n",
       "Test                       400                            25"
      ]
     },
     "execution_count": 17,
     "metadata": {},
     "output_type": "execute_result"
    }
   ],
   "source": [
    "df_n = pd.DataFrame(np.transpose(np.reshape(matrix, (2,3))), \n",
    "                    columns=[\"Number of elements\", \"Percent on total dataset (%)\"],\n",
    "                    index=[\"Train\", \"Validation\", \"Test\"])\n",
    "df_n"
   ]
  },
  {
   "cell_type": "markdown",
   "metadata": {},
   "source": [
    "### Finding best parameters\n",
    "\n",
    "This part is done in a seperate script in Spyder enviroment, since the tuning takes a lot of times. Here it is reported the code which find the best architectrue, since it has been seen that an alpha of 0.0001 is good enough.\n",
    "\n",
    "It needs about 5 minutes to complete the procedure so we can skip it."
   ]
  },
  {
   "cell_type": "code",
   "execution_count": 44,
   "metadata": {},
   "outputs": [
    {
     "name": "stdout",
     "output_type": "stream",
     "text": [
      "Starting validation procedure:\n",
      "\n",
      "\n",
      "Found a new best architecture, now displaying results:\n",
      "Neurons on 1st: 3\n",
      "Neurons on 2nd: 3\n",
      "Accurancy on test: 0.845\n",
      "Guessed right: 338 out of 400\n",
      "\n",
      "\n",
      "Found a new best architecture, now displaying results:\n",
      "Neurons on 1st: 3\n",
      "Neurons on 2nd: 4\n",
      "Accurancy on test: 0.865\n",
      "Guessed right: 346 out of 400\n",
      "\n",
      "\n",
      "Found a new best architecture, now displaying results:\n",
      "Neurons on 1st: 3\n",
      "Neurons on 2nd: 5\n",
      "Accurancy on test: 0.8775\n",
      "Guessed right: 351 out of 400\n",
      "\n",
      "Status: 10%\n"
     ]
    },
    {
     "ename": "KeyboardInterrupt",
     "evalue": "",
     "output_type": "error",
     "traceback": [
      "\u001b[1;31m---------------------------------------------------------------------------\u001b[0m",
      "\u001b[1;31mKeyboardInterrupt\u001b[0m                         Traceback (most recent call last)",
      "\u001b[1;32m<ipython-input-44-32fb79a5276c>\u001b[0m in \u001b[0;36m<module>\u001b[1;34m()\u001b[0m\n\u001b[0;32m     46\u001b[0m         clf = MLPClassifier(solver='lbfgs', alpha=1/10000,\n\u001b[0;32m     47\u001b[0m                             hidden_layer_sizes= (i,j), random_state=42, learning_rate = 'adaptive')\n\u001b[1;32m---> 48\u001b[1;33m         \u001b[0mclf\u001b[0m\u001b[1;33m.\u001b[0m\u001b[0mfit\u001b[0m\u001b[1;33m(\u001b[0m\u001b[0mX_train_no_val\u001b[0m\u001b[1;33m,\u001b[0m \u001b[0my_train_no_val\u001b[0m\u001b[1;33m)\u001b[0m\u001b[1;33m\u001b[0m\u001b[1;33m\u001b[0m\u001b[0m\n\u001b[0m\u001b[0;32m     49\u001b[0m \u001b[1;33m\u001b[0m\u001b[0m\n\u001b[0;32m     50\u001b[0m         \u001b[0mres\u001b[0m \u001b[1;33m=\u001b[0m \u001b[0mclf\u001b[0m\u001b[1;33m.\u001b[0m\u001b[0mpredict\u001b[0m\u001b[1;33m(\u001b[0m\u001b[0mX_validation\u001b[0m\u001b[1;33m)\u001b[0m\u001b[1;33m\u001b[0m\u001b[1;33m\u001b[0m\u001b[0m\n",
      "\u001b[1;32m~\\AppData\\Local\\Continuum\\anaconda3\\lib\\site-packages\\sklearn\\neural_network\\multilayer_perceptron.py\u001b[0m in \u001b[0;36mfit\u001b[1;34m(self, X, y)\u001b[0m\n\u001b[0;32m    980\u001b[0m         \"\"\"\n\u001b[0;32m    981\u001b[0m         return self._fit(X, y, incremental=(self.warm_start and\n\u001b[1;32m--> 982\u001b[1;33m                                             hasattr(self, \"classes_\")))\n\u001b[0m\u001b[0;32m    983\u001b[0m \u001b[1;33m\u001b[0m\u001b[0m\n\u001b[0;32m    984\u001b[0m     \u001b[1;33m@\u001b[0m\u001b[0mproperty\u001b[0m\u001b[1;33m\u001b[0m\u001b[1;33m\u001b[0m\u001b[0m\n",
      "\u001b[1;32m~\\AppData\\Local\\Continuum\\anaconda3\\lib\\site-packages\\sklearn\\neural_network\\multilayer_perceptron.py\u001b[0m in \u001b[0;36m_fit\u001b[1;34m(self, X, y, incremental)\u001b[0m\n\u001b[0;32m    373\u001b[0m         \u001b[1;32melif\u001b[0m \u001b[0mself\u001b[0m\u001b[1;33m.\u001b[0m\u001b[0msolver\u001b[0m \u001b[1;33m==\u001b[0m \u001b[1;34m'lbfgs'\u001b[0m\u001b[1;33m:\u001b[0m\u001b[1;33m\u001b[0m\u001b[1;33m\u001b[0m\u001b[0m\n\u001b[0;32m    374\u001b[0m             self._fit_lbfgs(X, y, activations, deltas, coef_grads,\n\u001b[1;32m--> 375\u001b[1;33m                             intercept_grads, layer_units)\n\u001b[0m\u001b[0;32m    376\u001b[0m         \u001b[1;32mreturn\u001b[0m \u001b[0mself\u001b[0m\u001b[1;33m\u001b[0m\u001b[1;33m\u001b[0m\u001b[0m\n\u001b[0;32m    377\u001b[0m \u001b[1;33m\u001b[0m\u001b[0m\n",
      "\u001b[1;32m~\\AppData\\Local\\Continuum\\anaconda3\\lib\\site-packages\\sklearn\\neural_network\\multilayer_perceptron.py\u001b[0m in \u001b[0;36m_fit_lbfgs\u001b[1;34m(self, X, y, activations, deltas, coef_grads, intercept_grads, layer_units)\u001b[0m\n\u001b[0;32m    463\u001b[0m             \u001b[0miprint\u001b[0m\u001b[1;33m=\u001b[0m\u001b[0miprint\u001b[0m\u001b[1;33m,\u001b[0m\u001b[1;33m\u001b[0m\u001b[1;33m\u001b[0m\u001b[0m\n\u001b[0;32m    464\u001b[0m             \u001b[0mpgtol\u001b[0m\u001b[1;33m=\u001b[0m\u001b[0mself\u001b[0m\u001b[1;33m.\u001b[0m\u001b[0mtol\u001b[0m\u001b[1;33m,\u001b[0m\u001b[1;33m\u001b[0m\u001b[1;33m\u001b[0m\u001b[0m\n\u001b[1;32m--> 465\u001b[1;33m             args=(X, y, activations, deltas, coef_grads, intercept_grads))\n\u001b[0m\u001b[0;32m    466\u001b[0m \u001b[1;33m\u001b[0m\u001b[0m\n\u001b[0;32m    467\u001b[0m         \u001b[0mself\u001b[0m\u001b[1;33m.\u001b[0m\u001b[0m_unpack\u001b[0m\u001b[1;33m(\u001b[0m\u001b[0moptimal_parameters\u001b[0m\u001b[1;33m)\u001b[0m\u001b[1;33m\u001b[0m\u001b[1;33m\u001b[0m\u001b[0m\n",
      "\u001b[1;32m~\\AppData\\Local\\Continuum\\anaconda3\\lib\\site-packages\\scipy\\optimize\\lbfgsb.py\u001b[0m in \u001b[0;36mfmin_l_bfgs_b\u001b[1;34m(func, x0, fprime, args, approx_grad, bounds, m, factr, pgtol, epsilon, iprint, maxfun, maxiter, disp, callback, maxls)\u001b[0m\n\u001b[0;32m    197\u001b[0m \u001b[1;33m\u001b[0m\u001b[0m\n\u001b[0;32m    198\u001b[0m     res = _minimize_lbfgsb(fun, x0, args=args, jac=jac, bounds=bounds,\n\u001b[1;32m--> 199\u001b[1;33m                            **opts)\n\u001b[0m\u001b[0;32m    200\u001b[0m     d = {'grad': res['jac'],\n\u001b[0;32m    201\u001b[0m          \u001b[1;34m'task'\u001b[0m\u001b[1;33m:\u001b[0m \u001b[0mres\u001b[0m\u001b[1;33m[\u001b[0m\u001b[1;34m'message'\u001b[0m\u001b[1;33m]\u001b[0m\u001b[1;33m,\u001b[0m\u001b[1;33m\u001b[0m\u001b[1;33m\u001b[0m\u001b[0m\n",
      "\u001b[1;32m~\\AppData\\Local\\Continuum\\anaconda3\\lib\\site-packages\\scipy\\optimize\\lbfgsb.py\u001b[0m in \u001b[0;36m_minimize_lbfgsb\u001b[1;34m(fun, x0, args, jac, bounds, disp, maxcor, ftol, gtol, eps, maxfun, maxiter, iprint, callback, maxls, **unknown_options)\u001b[0m\n\u001b[0;32m    333\u001b[0m             \u001b[1;31m# until the completion of the current minimization iteration.\u001b[0m\u001b[1;33m\u001b[0m\u001b[1;33m\u001b[0m\u001b[1;33m\u001b[0m\u001b[0m\n\u001b[0;32m    334\u001b[0m             \u001b[1;31m# Overwrite f and g:\u001b[0m\u001b[1;33m\u001b[0m\u001b[1;33m\u001b[0m\u001b[1;33m\u001b[0m\u001b[0m\n\u001b[1;32m--> 335\u001b[1;33m             \u001b[0mf\u001b[0m\u001b[1;33m,\u001b[0m \u001b[0mg\u001b[0m \u001b[1;33m=\u001b[0m \u001b[0mfunc_and_grad\u001b[0m\u001b[1;33m(\u001b[0m\u001b[0mx\u001b[0m\u001b[1;33m)\u001b[0m\u001b[1;33m\u001b[0m\u001b[1;33m\u001b[0m\u001b[0m\n\u001b[0m\u001b[0;32m    336\u001b[0m         \u001b[1;32melif\u001b[0m \u001b[0mtask_str\u001b[0m\u001b[1;33m.\u001b[0m\u001b[0mstartswith\u001b[0m\u001b[1;33m(\u001b[0m\u001b[1;34mb'NEW_X'\u001b[0m\u001b[1;33m)\u001b[0m\u001b[1;33m:\u001b[0m\u001b[1;33m\u001b[0m\u001b[1;33m\u001b[0m\u001b[0m\n\u001b[0;32m    337\u001b[0m             \u001b[1;31m# new iteration\u001b[0m\u001b[1;33m\u001b[0m\u001b[1;33m\u001b[0m\u001b[1;33m\u001b[0m\u001b[0m\n",
      "\u001b[1;32m~\\AppData\\Local\\Continuum\\anaconda3\\lib\\site-packages\\scipy\\optimize\\lbfgsb.py\u001b[0m in \u001b[0;36mfunc_and_grad\u001b[1;34m(x)\u001b[0m\n\u001b[0;32m    283\u001b[0m     \u001b[1;32melse\u001b[0m\u001b[1;33m:\u001b[0m\u001b[1;33m\u001b[0m\u001b[1;33m\u001b[0m\u001b[0m\n\u001b[0;32m    284\u001b[0m         \u001b[1;32mdef\u001b[0m \u001b[0mfunc_and_grad\u001b[0m\u001b[1;33m(\u001b[0m\u001b[0mx\u001b[0m\u001b[1;33m)\u001b[0m\u001b[1;33m:\u001b[0m\u001b[1;33m\u001b[0m\u001b[1;33m\u001b[0m\u001b[0m\n\u001b[1;32m--> 285\u001b[1;33m             \u001b[0mf\u001b[0m \u001b[1;33m=\u001b[0m \u001b[0mfun\u001b[0m\u001b[1;33m(\u001b[0m\u001b[0mx\u001b[0m\u001b[1;33m,\u001b[0m \u001b[1;33m*\u001b[0m\u001b[0margs\u001b[0m\u001b[1;33m)\u001b[0m\u001b[1;33m\u001b[0m\u001b[1;33m\u001b[0m\u001b[0m\n\u001b[0m\u001b[0;32m    286\u001b[0m             \u001b[0mg\u001b[0m \u001b[1;33m=\u001b[0m \u001b[0mjac\u001b[0m\u001b[1;33m(\u001b[0m\u001b[0mx\u001b[0m\u001b[1;33m,\u001b[0m \u001b[1;33m*\u001b[0m\u001b[0margs\u001b[0m\u001b[1;33m)\u001b[0m\u001b[1;33m\u001b[0m\u001b[1;33m\u001b[0m\u001b[0m\n\u001b[0;32m    287\u001b[0m             \u001b[1;32mreturn\u001b[0m \u001b[0mf\u001b[0m\u001b[1;33m,\u001b[0m \u001b[0mg\u001b[0m\u001b[1;33m\u001b[0m\u001b[1;33m\u001b[0m\u001b[0m\n",
      "\u001b[1;32m~\\AppData\\Local\\Continuum\\anaconda3\\lib\\site-packages\\scipy\\optimize\\optimize.py\u001b[0m in \u001b[0;36mfunction_wrapper\u001b[1;34m(*wrapper_args)\u001b[0m\n\u001b[0;32m    298\u001b[0m     \u001b[1;32mdef\u001b[0m \u001b[0mfunction_wrapper\u001b[0m\u001b[1;33m(\u001b[0m\u001b[1;33m*\u001b[0m\u001b[0mwrapper_args\u001b[0m\u001b[1;33m)\u001b[0m\u001b[1;33m:\u001b[0m\u001b[1;33m\u001b[0m\u001b[1;33m\u001b[0m\u001b[0m\n\u001b[0;32m    299\u001b[0m         \u001b[0mncalls\u001b[0m\u001b[1;33m[\u001b[0m\u001b[1;36m0\u001b[0m\u001b[1;33m]\u001b[0m \u001b[1;33m+=\u001b[0m \u001b[1;36m1\u001b[0m\u001b[1;33m\u001b[0m\u001b[1;33m\u001b[0m\u001b[0m\n\u001b[1;32m--> 300\u001b[1;33m         \u001b[1;32mreturn\u001b[0m \u001b[0mfunction\u001b[0m\u001b[1;33m(\u001b[0m\u001b[1;33m*\u001b[0m\u001b[1;33m(\u001b[0m\u001b[0mwrapper_args\u001b[0m \u001b[1;33m+\u001b[0m \u001b[0margs\u001b[0m\u001b[1;33m)\u001b[0m\u001b[1;33m)\u001b[0m\u001b[1;33m\u001b[0m\u001b[1;33m\u001b[0m\u001b[0m\n\u001b[0m\u001b[0;32m    301\u001b[0m \u001b[1;33m\u001b[0m\u001b[0m\n\u001b[0;32m    302\u001b[0m     \u001b[1;32mreturn\u001b[0m \u001b[0mncalls\u001b[0m\u001b[1;33m,\u001b[0m \u001b[0mfunction_wrapper\u001b[0m\u001b[1;33m\u001b[0m\u001b[1;33m\u001b[0m\u001b[0m\n",
      "\u001b[1;32m~\\AppData\\Local\\Continuum\\anaconda3\\lib\\site-packages\\scipy\\optimize\\optimize.py\u001b[0m in \u001b[0;36m__call__\u001b[1;34m(self, x, *args)\u001b[0m\n\u001b[0;32m     61\u001b[0m     \u001b[1;32mdef\u001b[0m \u001b[0m__call__\u001b[0m\u001b[1;33m(\u001b[0m\u001b[0mself\u001b[0m\u001b[1;33m,\u001b[0m \u001b[0mx\u001b[0m\u001b[1;33m,\u001b[0m \u001b[1;33m*\u001b[0m\u001b[0margs\u001b[0m\u001b[1;33m)\u001b[0m\u001b[1;33m:\u001b[0m\u001b[1;33m\u001b[0m\u001b[1;33m\u001b[0m\u001b[0m\n\u001b[0;32m     62\u001b[0m         \u001b[0mself\u001b[0m\u001b[1;33m.\u001b[0m\u001b[0mx\u001b[0m \u001b[1;33m=\u001b[0m \u001b[0mnumpy\u001b[0m\u001b[1;33m.\u001b[0m\u001b[0masarray\u001b[0m\u001b[1;33m(\u001b[0m\u001b[0mx\u001b[0m\u001b[1;33m)\u001b[0m\u001b[1;33m.\u001b[0m\u001b[0mcopy\u001b[0m\u001b[1;33m(\u001b[0m\u001b[1;33m)\u001b[0m\u001b[1;33m\u001b[0m\u001b[1;33m\u001b[0m\u001b[0m\n\u001b[1;32m---> 63\u001b[1;33m         \u001b[0mfg\u001b[0m \u001b[1;33m=\u001b[0m \u001b[0mself\u001b[0m\u001b[1;33m.\u001b[0m\u001b[0mfun\u001b[0m\u001b[1;33m(\u001b[0m\u001b[0mx\u001b[0m\u001b[1;33m,\u001b[0m \u001b[1;33m*\u001b[0m\u001b[0margs\u001b[0m\u001b[1;33m)\u001b[0m\u001b[1;33m\u001b[0m\u001b[1;33m\u001b[0m\u001b[0m\n\u001b[0m\u001b[0;32m     64\u001b[0m         \u001b[0mself\u001b[0m\u001b[1;33m.\u001b[0m\u001b[0mjac\u001b[0m \u001b[1;33m=\u001b[0m \u001b[0mfg\u001b[0m\u001b[1;33m[\u001b[0m\u001b[1;36m1\u001b[0m\u001b[1;33m]\u001b[0m\u001b[1;33m\u001b[0m\u001b[1;33m\u001b[0m\u001b[0m\n\u001b[0;32m     65\u001b[0m         \u001b[1;32mreturn\u001b[0m \u001b[0mfg\u001b[0m\u001b[1;33m[\u001b[0m\u001b[1;36m0\u001b[0m\u001b[1;33m]\u001b[0m\u001b[1;33m\u001b[0m\u001b[1;33m\u001b[0m\u001b[0m\n",
      "\u001b[1;32m~\\AppData\\Local\\Continuum\\anaconda3\\lib\\site-packages\\sklearn\\neural_network\\multilayer_perceptron.py\u001b[0m in \u001b[0;36m_loss_grad_lbfgs\u001b[1;34m(self, packed_coef_inter, X, y, activations, deltas, coef_grads, intercept_grads)\u001b[0m\n\u001b[0;32m    172\u001b[0m         \u001b[0mself\u001b[0m\u001b[1;33m.\u001b[0m\u001b[0m_unpack\u001b[0m\u001b[1;33m(\u001b[0m\u001b[0mpacked_coef_inter\u001b[0m\u001b[1;33m)\u001b[0m\u001b[1;33m\u001b[0m\u001b[1;33m\u001b[0m\u001b[0m\n\u001b[0;32m    173\u001b[0m         loss, coef_grads, intercept_grads = self._backprop(\n\u001b[1;32m--> 174\u001b[1;33m             X, y, activations, deltas, coef_grads, intercept_grads)\n\u001b[0m\u001b[0;32m    175\u001b[0m         \u001b[0mself\u001b[0m\u001b[1;33m.\u001b[0m\u001b[0mn_iter_\u001b[0m \u001b[1;33m+=\u001b[0m \u001b[1;36m1\u001b[0m\u001b[1;33m\u001b[0m\u001b[1;33m\u001b[0m\u001b[0m\n\u001b[0;32m    176\u001b[0m         \u001b[0mgrad\u001b[0m \u001b[1;33m=\u001b[0m \u001b[0m_pack\u001b[0m\u001b[1;33m(\u001b[0m\u001b[0mcoef_grads\u001b[0m\u001b[1;33m,\u001b[0m \u001b[0mintercept_grads\u001b[0m\u001b[1;33m)\u001b[0m\u001b[1;33m\u001b[0m\u001b[1;33m\u001b[0m\u001b[0m\n",
      "\u001b[1;32m~\\AppData\\Local\\Continuum\\anaconda3\\lib\\site-packages\\sklearn\\neural_network\\multilayer_perceptron.py\u001b[0m in \u001b[0;36m_backprop\u001b[1;34m(self, X, y, activations, deltas, coef_grads, intercept_grads)\u001b[0m\n\u001b[0;32m    250\u001b[0m             coef_grads, intercept_grads = self._compute_loss_grad(\n\u001b[0;32m    251\u001b[0m                 \u001b[0mi\u001b[0m \u001b[1;33m-\u001b[0m \u001b[1;36m1\u001b[0m\u001b[1;33m,\u001b[0m \u001b[0mn_samples\u001b[0m\u001b[1;33m,\u001b[0m \u001b[0mactivations\u001b[0m\u001b[1;33m,\u001b[0m \u001b[0mdeltas\u001b[0m\u001b[1;33m,\u001b[0m \u001b[0mcoef_grads\u001b[0m\u001b[1;33m,\u001b[0m\u001b[1;33m\u001b[0m\u001b[1;33m\u001b[0m\u001b[0m\n\u001b[1;32m--> 252\u001b[1;33m                 intercept_grads)\n\u001b[0m\u001b[0;32m    253\u001b[0m \u001b[1;33m\u001b[0m\u001b[0m\n\u001b[0;32m    254\u001b[0m         \u001b[1;32mreturn\u001b[0m \u001b[0mloss\u001b[0m\u001b[1;33m,\u001b[0m \u001b[0mcoef_grads\u001b[0m\u001b[1;33m,\u001b[0m \u001b[0mintercept_grads\u001b[0m\u001b[1;33m\u001b[0m\u001b[1;33m\u001b[0m\u001b[0m\n",
      "\u001b[1;32m~\\AppData\\Local\\Continuum\\anaconda3\\lib\\site-packages\\sklearn\\neural_network\\multilayer_perceptron.py\u001b[0m in \u001b[0;36m_compute_loss_grad\u001b[1;34m(self, layer, n_samples, activations, deltas, coef_grads, intercept_grads)\u001b[0m\n\u001b[0;32m    120\u001b[0m         \"\"\"\n\u001b[0;32m    121\u001b[0m         coef_grads[layer] = safe_sparse_dot(activations[layer].T,\n\u001b[1;32m--> 122\u001b[1;33m                                             deltas[layer])\n\u001b[0m\u001b[0;32m    123\u001b[0m         \u001b[0mcoef_grads\u001b[0m\u001b[1;33m[\u001b[0m\u001b[0mlayer\u001b[0m\u001b[1;33m]\u001b[0m \u001b[1;33m+=\u001b[0m \u001b[1;33m(\u001b[0m\u001b[0mself\u001b[0m\u001b[1;33m.\u001b[0m\u001b[0malpha\u001b[0m \u001b[1;33m*\u001b[0m \u001b[0mself\u001b[0m\u001b[1;33m.\u001b[0m\u001b[0mcoefs_\u001b[0m\u001b[1;33m[\u001b[0m\u001b[0mlayer\u001b[0m\u001b[1;33m]\u001b[0m\u001b[1;33m)\u001b[0m\u001b[1;33m\u001b[0m\u001b[1;33m\u001b[0m\u001b[0m\n\u001b[0;32m    124\u001b[0m         \u001b[0mcoef_grads\u001b[0m\u001b[1;33m[\u001b[0m\u001b[0mlayer\u001b[0m\u001b[1;33m]\u001b[0m \u001b[1;33m/=\u001b[0m \u001b[0mn_samples\u001b[0m\u001b[1;33m\u001b[0m\u001b[1;33m\u001b[0m\u001b[0m\n",
      "\u001b[1;32m~\\AppData\\Local\\Continuum\\anaconda3\\lib\\site-packages\\sklearn\\utils\\extmath.py\u001b[0m in \u001b[0;36msafe_sparse_dot\u001b[1;34m(a, b, dense_output)\u001b[0m\n\u001b[0;32m    140\u001b[0m         \u001b[1;32mreturn\u001b[0m \u001b[0mret\u001b[0m\u001b[1;33m\u001b[0m\u001b[1;33m\u001b[0m\u001b[0m\n\u001b[0;32m    141\u001b[0m     \u001b[1;32melse\u001b[0m\u001b[1;33m:\u001b[0m\u001b[1;33m\u001b[0m\u001b[1;33m\u001b[0m\u001b[0m\n\u001b[1;32m--> 142\u001b[1;33m         \u001b[1;32mreturn\u001b[0m \u001b[0mnp\u001b[0m\u001b[1;33m.\u001b[0m\u001b[0mdot\u001b[0m\u001b[1;33m(\u001b[0m\u001b[0ma\u001b[0m\u001b[1;33m,\u001b[0m \u001b[0mb\u001b[0m\u001b[1;33m)\u001b[0m\u001b[1;33m\u001b[0m\u001b[1;33m\u001b[0m\u001b[0m\n\u001b[0m\u001b[0;32m    143\u001b[0m \u001b[1;33m\u001b[0m\u001b[0m\n\u001b[0;32m    144\u001b[0m \u001b[1;33m\u001b[0m\u001b[0m\n",
      "\u001b[1;31mKeyboardInterrupt\u001b[0m: "
     ]
    }
   ],
   "source": [
    "import time\n",
    "start_time = time.time()\n",
    "\n",
    "result = np.zeros((3, 30*30))\n",
    "n_mod = 0\n",
    "max_acc = 0\n",
    "\n",
    "print(\"Starting validation procedure:\")\n",
    "print(\"\")\n",
    "\n",
    "for i in range(3, 33):\n",
    "    for j in range(3, 33):\n",
    "        \"\"\"\n",
    "        for alpha in [1]:\n",
    "            a = 0\n",
    "            alpha_result = np.zeros((2, 1))\n",
    "            clf = MLPClassifier(solver='lbfgs', alpha=alpha/100000,\n",
    "                                hidden_layer_sizes= (i,j), random_state=42, learning_rate = 'adaptive')\n",
    "            clf.fit(X_train, y_train)\n",
    "            res = clf.predict(X_test)\n",
    "            count = 0\n",
    "            zipped = zip(res, y_test)\n",
    "            for a, b in zipped:\n",
    "                if a == b:\n",
    "                    count += 1\n",
    "            acc_on_test = count/len(y_test)\n",
    "            alpha_result[0, int(a)] = acc_on_test\n",
    "            alpha_result[1, int(a)] = alpha\n",
    "            if alpha%100 == 0 and alpha != 0:\n",
    "                print(\"{}%\".format(alpha/100))    \n",
    "        best_result = np.max(alpha_result[0, :])\n",
    "        where_alpha = np.where(alpha_result[0, :] == best_result)\n",
    "        print(where_alpha)\n",
    "        where_a = where_alpha[0][0]\n",
    "        print(where_alpha[0][0])\n",
    "        result[0, n_mod] = best_result\n",
    "        result[1, n_mod] = where_a\n",
    "        result[2, n_mod] = i\n",
    "        result[3, n_mod] = j\n",
    "        n_mod += 1\n",
    "        print(\"Test parmaters:\\nLayer: {}\\nNeruonsOnLayer: {}\\nAlpha {}\\nAccurancy on test: {}\"\n",
    "              .format(i, j, where_a, best_result))\n",
    "        print(\"--- %s seconds ---\" % (time.time() - start_time))\n",
    "        \"\"\"\n",
    "        \n",
    "        clf = MLPClassifier(solver='lbfgs', alpha=1/10000,\n",
    "                            hidden_layer_sizes= (i,j), random_state=42, learning_rate = 'adaptive')\n",
    "        clf.fit(X_train_no_val, y_train_no_val)\n",
    "        \n",
    "        res = clf.predict(X_validation)\n",
    "        count = 0\n",
    "        zipped = zip(res, y_validation)\n",
    "        for a, b in zipped:\n",
    "            if a == b:\n",
    "                count += 1\n",
    "        \n",
    "        acc_on_test = count/len(y_validation)\n",
    "        result[0, n_mod] = acc_on_test\n",
    "        result[1, n_mod] = i\n",
    "        result[2, n_mod] = j\n",
    "        \n",
    "        n_mod += 1\n",
    "        \n",
    "        if acc_on_test > max_acc:\n",
    "            max_acc = acc_on_test\n",
    "            print(\"\\nFound a new best architecture, now displaying results:\")\n",
    "            print(\"Neurons on 1st: {}\\nNeurons on 2nd: {}\\nAccurancy on test: {}\"\n",
    "                  .format(i, j, acc_on_test))\n",
    "            print(\"Guessed right: {} out of {}\\n\".format(count, len(y_validation)))\n",
    "    \n",
    "    if i == 5:\n",
    "        print(\"Status: {}%\".format(10))\n",
    "    elif i == 8:\n",
    "        print(\"Status: {}%\".format(20))\n",
    "    elif i == 11:\n",
    "        print(\"Status: {}%\".format(30))\n",
    "    elif i == 14:\n",
    "        print(\"Status: {}%\".format(40))\n",
    "    elif i == 17:\n",
    "        print(\"Status: {}%\".format(50))\n",
    "    elif i == 20:\n",
    "        print(\"Status: {}%\".format(60))\n",
    "    elif i == 23:\n",
    "        print(\"Status: {}%\".format(70))\n",
    "    elif i == 26:\n",
    "        print(\"Status: {}%\".format(80))\n",
    "    elif i == 39:\n",
    "        print(\"Status: {}%\".format(90))\n",
    "    elif i == 32:\n",
    "        print(\"Status: {}%\".format(100))\n",
    "\n",
    "print(\"Validation procedure: Done\")\n",
    "\n",
    "            \n",
    "print(\"__________________________________________________\\n\")\n",
    "df = pd.DataFrame(np.transpose(result), columns = [\"Accurancy\", \"#Neurons on 1st \", \"#Neurons on 2nd\"])\n",
    "print(df.head())\n",
    "print(\"__________________________________________________\\n\")\n",
    "best = np.max(result[0, :])\n",
    "the_alpha_where = np.where(result[0, :] == best)\n",
    "the_i = result[1, the_alpha_where[0][0]]\n",
    "the_j = result[2, the_alpha_where[0][0]]\n",
    "\n",
    "print(\"--- %s seconds ---\" % (time.time() - start_time))\n",
    "print(\"__________________________________________________\")\n",
    "print(\"Best result is when architecture is:\\n#Neurons on 1st: {}\\n#Neurons on 2nd: {}\\nAccurancy on test: {}\"\n",
    "              .format(the_i, the_j, best))"
   ]
  },
  {
   "cell_type": "markdown",
   "metadata": {},
   "source": [
    "### Visualizing Validation perfromance\n",
    "\n",
    "We now visualize the performance of the model in validation set with the best architecture found."
   ]
  },
  {
   "cell_type": "code",
   "execution_count": 18,
   "metadata": {},
   "outputs": [
    {
     "name": "stdout",
     "output_type": "stream",
     "text": [
      "Accurancy on validation: 0.8775\n",
      "With 351 right classified items over a test set of 400\n"
     ]
    }
   ],
   "source": [
    "clf = MLPClassifier(solver='lbfgs', alpha=0.0001,\n",
    "                    hidden_layer_sizes=(3, 5), random_state=42, learning_rate = 'adaptive')\n",
    "clf.fit(X_train_no_val, y_train_no_val)\n",
    "clf.predict(X_validation)\n",
    "\n",
    "validation_score = clf.score(X_validation, y_validation, sample_weight=None)\n",
    "validation_F_score = f1_score(y_validation, clf.predict(X_validation))\n",
    "\n",
    "print(\"Accurancy on validation: {}\\nWith {} right classified items over a test set of {}\"\n",
    "      .format(validation_score, int(validation_score*len(y_validation)), len(y_validation)))"
   ]
  },
  {
   "cell_type": "code",
   "execution_count": 19,
   "metadata": {},
   "outputs": [
    {
     "name": "stdout",
     "output_type": "stream",
     "text": [
      "--- Validation ---\n"
     ]
    },
    {
     "data": {
      "image/png": "[encoded data removed]",
      "text/plain": [
       "<Figure size 432x288 with 2 Axes>"
      ]
     },
     "metadata": {},
     "output_type": "display_data"
    }
   ],
   "source": [
    "conf_matr_list = gl.plot_matrice_di_confusione(y_validation, clf.predict(X_validation), ['0', '1'], cmap= plt.cm.Blues) \n",
    "print(\"--- Validation ---\")"
   ]
  },
  {
   "cell_type": "markdown",
   "metadata": {},
   "source": [
    "### Training again the Neural Netowrk and Testing it\n",
    "\n",
    "The neural network taken in account is the one who has been found the best in the \"validation phase\""
   ]
  },
  {
   "cell_type": "code",
   "execution_count": 26,
   "metadata": {},
   "outputs": [
    {
     "name": "stdout",
     "output_type": "stream",
     "text": [
      "Neural Network has been trained\n",
      "Neural Network has been tested\n"
     ]
    }
   ],
   "source": [
    "clf = MLPClassifier(solver='lbfgs', alpha=0.0001,\n",
    "                    hidden_layer_sizes=(3, 5), random_state=42, learning_rate = 'adaptive')\n",
    "\n",
    "clf.fit(X_train, y_train)\n",
    "print(\"Neural Network has been trained\")\n",
    "clf.predict(X_test)\n",
    "print(\"Neural Network has been tested\")"
   ]
  },
  {
   "cell_type": "markdown",
   "metadata": {},
   "source": [
    "## Step 4: Results\n",
    "\n",
    "Checking various score parameters and display some results\n",
    "\n",
    "### Accurancy, F Score and Number of Right Guesses on Test Set\n",
    "\n",
    "Let remember that the accuracy means the proportion of guessed right elements: <br>\n",
    "Accurancy = <code>(tp + tn) / (fn + fp)</code> <br>\n",
    "The F Score takes in account Precision and Recall and it will be explain below"
   ]
  },
  {
   "cell_type": "code",
   "execution_count": 27,
   "metadata": {},
   "outputs": [
    {
     "name": "stdout",
     "output_type": "stream",
     "text": [
      "Accurancy on test: 0.895\n",
      "F Score on test: 0.896\n",
      "With 358 right classified items over a test set of 400\n"
     ]
    }
   ],
   "source": [
    "training_score = clf.score(X_train, y_train)\n",
    "training_F_score = f1_score(y_train, clf.predict(X_train))\n",
    "test_score = np.round(clf.score(X_test, y_test, sample_weight=None), 3)\n",
    "test_F_score = np.round(f1_score(y_test, clf.predict(X_test)), 3)\n",
    "\n",
    "print(\"Accurancy on test: {}\\nF Score on test: {}\\nWith {} right classified items over a test set of {}\"\n",
    "      .format(test_score, test_F_score,int(test_score*len(y_test)), len(y_test)))"
   ]
  },
  {
   "cell_type": "markdown",
   "metadata": {},
   "source": [
    "### Precison, Recall, F Score for True and Fake on Test Set\n",
    "\n",
    "The precision is the ratio <code>tp / (tp + fp)</code> where tp is the number of true positives and fp the number of false positives. The precision is intuitively the ability of the classifier not to label as positive a sample that is negative. <br>\n",
    "The recall is the ratio <code>tp / (tp + fn)</code> where tp is the number of true positives and fn the number of false negatives. The recall is intuitively the ability of the classifier to find all the positive samples. <br>\n",
    "The F-beta score can be interpreted as a weighted harmonic mean of the precision and recall, where an F-beta score reaches its best value at 1 and worst score at 0.\n",
    "\n",
    "https://scikit-learn.org/stable/modules/generated/sklearn.metrics.precision_recall_fscore_support.html"
   ]
  },
  {
   "cell_type": "code",
   "execution_count": 28,
   "metadata": {},
   "outputs": [
    {
     "data": {
      "text/html": [
       "<div>\n",
       "<style scoped>\n",
       "    .dataframe tbody tr th:only-of-type {\n",
       "        vertical-align: middle;\n",
       "    }\n",
       "\n",
       "    .dataframe tbody tr th {\n",
       "        vertical-align: top;\n",
       "    }\n",
       "\n",
       "    .dataframe thead th {\n",
       "        text-align: right;\n",
       "    }\n",
       "</style>\n",
       "<table border=\"1\" class=\"dataframe\">\n",
       "  <thead>\n",
       "    <tr style=\"text-align: right;\">\n",
       "      <th></th>\n",
       "      <th>True</th>\n",
       "      <th>Fake</th>\n",
       "    </tr>\n",
       "  </thead>\n",
       "  <tbody>\n",
       "    <tr>\n",
       "      <th>Precision</th>\n",
       "      <td>0.92</td>\n",
       "      <td>0.87</td>\n",
       "    </tr>\n",
       "    <tr>\n",
       "      <th>Recall</th>\n",
       "      <td>0.87</td>\n",
       "      <td>0.92</td>\n",
       "    </tr>\n",
       "    <tr>\n",
       "      <th>F Score</th>\n",
       "      <td>0.90</td>\n",
       "      <td>0.89</td>\n",
       "    </tr>\n",
       "  </tbody>\n",
       "</table>\n",
       "</div>"
      ],
      "text/plain": [
       "           True  Fake\n",
       "Precision  0.92  0.87\n",
       "Recall     0.87  0.92\n",
       "F Score    0.90  0.89"
      ]
     },
     "execution_count": 28,
     "metadata": {},
     "output_type": "execute_result"
    }
   ],
   "source": [
    "test_score_all = precision_recall_fscore_support(y_test, clf.predict(X_test))\n",
    "mat_test_score_all = np.zeros((3, 2))\n",
    "for i in range(0,3):\n",
    "    mat_test_score_all[i, 0] = test_score_all[i][1]\n",
    "    mat_test_score_all[i, 1] = test_score_all[i][0]\n",
    "    \n",
    "mat_test_score_all = np.round(mat_test_score_all, 2)\n",
    "df_score = pd.DataFrame(mat_test_score_all, columns=[\"True\", \"Fake\"], index=[\"Precision\", \"Recall\", \"F Score\"])\n",
    "\n",
    "df_score"
   ]
  },
  {
   "cell_type": "code",
   "execution_count": 29,
   "metadata": {},
   "outputs": [
    {
     "data": {
      "text/html": [
       "<div>\n",
       "<style scoped>\n",
       "    .dataframe tbody tr th:only-of-type {\n",
       "        vertical-align: middle;\n",
       "    }\n",
       "\n",
       "    .dataframe tbody tr th {\n",
       "        vertical-align: top;\n",
       "    }\n",
       "\n",
       "    .dataframe thead th {\n",
       "        text-align: right;\n",
       "    }\n",
       "</style>\n",
       "<table border=\"1\" class=\"dataframe\">\n",
       "  <thead>\n",
       "    <tr style=\"text-align: right;\">\n",
       "      <th></th>\n",
       "      <th>Number of elements</th>\n",
       "      <th>Percent on total dataset (%)</th>\n",
       "      <th>Accurancy</th>\n",
       "      <th>F score</th>\n",
       "    </tr>\n",
       "  </thead>\n",
       "  <tbody>\n",
       "    <tr>\n",
       "      <th>Train</th>\n",
       "      <td>800</td>\n",
       "      <td>50</td>\n",
       "      <td>1.00</td>\n",
       "      <td>1.00</td>\n",
       "    </tr>\n",
       "    <tr>\n",
       "      <th>Validation</th>\n",
       "      <td>400</td>\n",
       "      <td>25</td>\n",
       "      <td>0.88</td>\n",
       "      <td>0.87</td>\n",
       "    </tr>\n",
       "    <tr>\n",
       "      <th>Test</th>\n",
       "      <td>400</td>\n",
       "      <td>25</td>\n",
       "      <td>0.90</td>\n",
       "      <td>0.90</td>\n",
       "    </tr>\n",
       "  </tbody>\n",
       "</table>\n",
       "</div>"
      ],
      "text/plain": [
       "            Number of elements  Percent on total dataset (%)  Accurancy  \\\n",
       "Train                      800                            50       1.00   \n",
       "Validation                 400                            25       0.88   \n",
       "Test                       400                            25       0.90   \n",
       "\n",
       "            F score  \n",
       "Train          1.00  \n",
       "Validation     0.87  \n",
       "Test           0.90  "
      ]
     },
     "execution_count": 29,
     "metadata": {},
     "output_type": "execute_result"
    }
   ],
   "source": [
    "mat = np.round(np.matrix([[training_score, validation_score, test_score],\n",
    "                         [training_F_score, validation_F_score, test_F_score]]), 2)\n",
    "mat = np.transpose(mat)\n",
    "\n",
    "\n",
    "df_res = pd.DataFrame(mat, columns=[\"Accurancy\", \"F score\"], index=[\"Train\", \"Validation\", \"Test\"])\n",
    "df_res_total = pd.concat([df_n, df_res], axis=1, join_axes=[df_n.index])\n",
    "df_res_total"
   ]
  },
  {
   "cell_type": "markdown",
   "metadata": {},
   "source": [
    "### Confusion Matrix"
   ]
  },
  {
   "cell_type": "code",
   "execution_count": 30,
   "metadata": {
    "scrolled": true
   },
   "outputs": [
    {
     "data": {
      "image/png": "[encoded data removed]",
      "text/plain": [
       "<Figure size 432x288 with 2 Axes>"
      ]
     },
     "metadata": {},
     "output_type": "display_data"
    }
   ],
   "source": [
    "conf_matr_list = gl.plot_matrice_di_confusione(y_test, clf.predict(X_test), ['0', '1']) ##Plot function provided by M. Scia"
   ]
  },
  {
   "cell_type": "markdown",
   "metadata": {},
   "source": [
    "### ROC Curve"
   ]
  },
  {
   "cell_type": "code",
   "execution_count": 31,
   "metadata": {},
   "outputs": [
    {
     "data": {
      "image/png": "[encoded data removed]",
      "text/plain": [
       "<Figure size 1440x432 with 1 Axes>"
      ]
     },
     "metadata": {},
     "output_type": "display_data"
    }
   ],
   "source": [
    "gl.plot_roc_curve(y_test, clf.predict(X_test), label='Multi Layer Perceptron') ##Plot function provided by M. Scia"
   ]
  },
  {
   "cell_type": "markdown",
   "metadata": {},
   "source": [
    "## Step 5: Saving the model"
   ]
  },
  {
   "cell_type": "code",
   "execution_count": 32,
   "metadata": {},
   "outputs": [],
   "source": [
    "df_results = pd.DataFrame.from_csv(\"my_result.txt\")\n",
    "df_results[\"N-Grams & tf-idf\"] = np.round([test_score, test_F_score], 3)\n",
    "df_results.to_csv(\"my_result.txt\")"
   ]
  },
  {
   "cell_type": "code",
   "execution_count": 33,
   "metadata": {},
   "outputs": [],
   "source": [
    "df_roc = pd.DataFrame.from_csv(\"roc_table.csv\")\n",
    "df_roc[\"tf-idf_true\"] = y_test.values\n",
    "df_roc[\"tf-idf_pred\"] = clf.predict(X_test)\n",
    "df_roc.to_csv(\"roc_table.csv\")"
   ]
  }
 ],
 "metadata": {
  "kernelspec": {
   "display_name": "Python 3",
   "language": "python",
   "name": "python3"
  },
  "language_info": {
   "codemirror_mode": {
    "name": "ipython",
    "version": 3
   },
   "file_extension": ".py",
   "mimetype": "text/x-python",
   "name": "python",
   "nbconvert_exporter": "python",
   "pygments_lexer": "ipython3",
   "version": "3.6.8"
  }
 },
 "nbformat": 4,
 "nbformat_minor": 2
}

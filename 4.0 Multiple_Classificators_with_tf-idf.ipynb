{
 "cells": [
  {
   "cell_type": "markdown",
   "metadata": {},
   "source": [
    "## Francesco Grimaldi\n",
    "\n",
    "# 4.0) Multiple Classifcators with tf-idf"
   ]
  },
  {
   "cell_type": "markdown",
   "metadata": {},
   "source": [
    "## Step 0: Importing the data and basic libraries"
   ]
  },
  {
   "cell_type": "code",
   "execution_count": 1,
   "metadata": {
    "scrolled": true
   },
   "outputs": [
    {
     "name": "stdout",
     "output_type": "stream",
     "text": [
      "[nltk_data] Downloading package stopwords to\n",
      "[nltk_data]     C:\\Users\\fgrim\\AppData\\Roaming\\nltk_data...\n",
      "[nltk_data]   Package stopwords is already up-to-date!\n"
     ]
    },
    {
     "data": {
      "text/plain": [
       "True"
      ]
     },
     "execution_count": 1,
     "metadata": {},
     "output_type": "execute_result"
    }
   ],
   "source": [
    "import numpy as np\n",
    "import pandas as pd\n",
    "import nltk\n",
    "import warnings\n",
    "warnings.filterwarnings(\"ignore\")\n",
    "nltk.download('stopwords')\n"
   ]
  },
  {
   "cell_type": "markdown",
   "metadata": {},
   "source": [
    "### Import Raw Data  "
   ]
  },
  {
   "cell_type": "code",
   "execution_count": 2,
   "metadata": {
    "scrolled": true
   },
   "outputs": [
    {
     "data": {
      "text/html": [
       "<div>\n",
       "<style scoped>\n",
       "    .dataframe tbody tr th:only-of-type {\n",
       "        vertical-align: middle;\n",
       "    }\n",
       "\n",
       "    .dataframe tbody tr th {\n",
       "        vertical-align: top;\n",
       "    }\n",
       "\n",
       "    .dataframe thead th {\n",
       "        text-align: right;\n",
       "    }\n",
       "</style>\n",
       "<table border=\"1\" class=\"dataframe\">\n",
       "  <thead>\n",
       "    <tr style=\"text-align: right;\">\n",
       "      <th></th>\n",
       "      <th>description</th>\n",
       "      <th>file</th>\n",
       "      <th>polarity</th>\n",
       "      <th>text</th>\n",
       "      <th>truth</th>\n",
       "    </tr>\n",
       "  </thead>\n",
       "  <tbody>\n",
       "    <tr>\n",
       "      <th>0</th>\n",
       "      <td>hilton_1</td>\n",
       "      <td>\\negative_polarity\\deceptive_from_MTurk\\fold1\\...</td>\n",
       "      <td>False</td>\n",
       "      <td>We stayed at the Schicago Hilton for 4 days an...</td>\n",
       "      <td>False</td>\n",
       "    </tr>\n",
       "    <tr>\n",
       "      <th>1</th>\n",
       "      <td>hilton_10</td>\n",
       "      <td>\\negative_polarity\\deceptive_from_MTurk\\fold1\\...</td>\n",
       "      <td>False</td>\n",
       "      <td>Hotel is located 1/2 mile from the train stati...</td>\n",
       "      <td>False</td>\n",
       "    </tr>\n",
       "    <tr>\n",
       "      <th>2</th>\n",
       "      <td>hilton_11</td>\n",
       "      <td>\\negative_polarity\\deceptive_from_MTurk\\fold1\\...</td>\n",
       "      <td>False</td>\n",
       "      <td>I made my reservation at the Hilton Chicago be...</td>\n",
       "      <td>False</td>\n",
       "    </tr>\n",
       "    <tr>\n",
       "      <th>3</th>\n",
       "      <td>hilton_12</td>\n",
       "      <td>\\negative_polarity\\deceptive_from_MTurk\\fold1\\...</td>\n",
       "      <td>False</td>\n",
       "      <td>When most people think Hilton, they think luxu...</td>\n",
       "      <td>False</td>\n",
       "    </tr>\n",
       "    <tr>\n",
       "      <th>4</th>\n",
       "      <td>hilton_13</td>\n",
       "      <td>\\negative_polarity\\deceptive_from_MTurk\\fold1\\...</td>\n",
       "      <td>False</td>\n",
       "      <td>My husband and I recently stayed stayed at the...</td>\n",
       "      <td>False</td>\n",
       "    </tr>\n",
       "  </tbody>\n",
       "</table>\n",
       "</div>"
      ],
      "text/plain": [
       "  description                                               file  polarity  \\\n",
       "0    hilton_1  \\negative_polarity\\deceptive_from_MTurk\\fold1\\...     False   \n",
       "1   hilton_10  \\negative_polarity\\deceptive_from_MTurk\\fold1\\...     False   \n",
       "2   hilton_11  \\negative_polarity\\deceptive_from_MTurk\\fold1\\...     False   \n",
       "3   hilton_12  \\negative_polarity\\deceptive_from_MTurk\\fold1\\...     False   \n",
       "4   hilton_13  \\negative_polarity\\deceptive_from_MTurk\\fold1\\...     False   \n",
       "\n",
       "                                                text  truth  \n",
       "0  We stayed at the Schicago Hilton for 4 days an...  False  \n",
       "1  Hotel is located 1/2 mile from the train stati...  False  \n",
       "2  I made my reservation at the Hilton Chicago be...  False  \n",
       "3  When most people think Hilton, they think luxu...  False  \n",
       "4  My husband and I recently stayed stayed at the...  False  "
      ]
     },
     "execution_count": 2,
     "metadata": {},
     "output_type": "execute_result"
    }
   ],
   "source": [
    "df = pd.read_json(\"op_spam_v1.4.json\") ##file with all the data gathered togheter in a very nice way, provided by Arpad\n",
    "df.head()"
   ]
  },
  {
   "cell_type": "markdown",
   "metadata": {},
   "source": [
    "## Step 1: Data  pre-processing\n",
    "\n",
    "Transform our data in something meaningful for our Deep Learning Classifier"
   ]
  },
  {
   "cell_type": "markdown",
   "metadata": {},
   "source": [
    "### Data transformation\n",
    "\n",
    "Transforming polarity and truth in 0 and 1, dropping path and description"
   ]
  },
  {
   "cell_type": "code",
   "execution_count": 3,
   "metadata": {},
   "outputs": [
    {
     "data": {
      "text/html": [
       "<div>\n",
       "<style scoped>\n",
       "    .dataframe tbody tr th:only-of-type {\n",
       "        vertical-align: middle;\n",
       "    }\n",
       "\n",
       "    .dataframe tbody tr th {\n",
       "        vertical-align: top;\n",
       "    }\n",
       "\n",
       "    .dataframe thead th {\n",
       "        text-align: right;\n",
       "    }\n",
       "</style>\n",
       "<table border=\"1\" class=\"dataframe\">\n",
       "  <thead>\n",
       "    <tr style=\"text-align: right;\">\n",
       "      <th></th>\n",
       "      <th>truth</th>\n",
       "      <th>polarity</th>\n",
       "      <th>text</th>\n",
       "    </tr>\n",
       "  </thead>\n",
       "  <tbody>\n",
       "    <tr>\n",
       "      <th>0</th>\n",
       "      <td>0.0</td>\n",
       "      <td>0.0</td>\n",
       "      <td>We stayed at the Schicago Hilton for 4 days an...</td>\n",
       "    </tr>\n",
       "    <tr>\n",
       "      <th>1</th>\n",
       "      <td>0.0</td>\n",
       "      <td>0.0</td>\n",
       "      <td>Hotel is located 1/2 mile from the train stati...</td>\n",
       "    </tr>\n",
       "    <tr>\n",
       "      <th>2</th>\n",
       "      <td>0.0</td>\n",
       "      <td>0.0</td>\n",
       "      <td>I made my reservation at the Hilton Chicago be...</td>\n",
       "    </tr>\n",
       "    <tr>\n",
       "      <th>3</th>\n",
       "      <td>0.0</td>\n",
       "      <td>0.0</td>\n",
       "      <td>When most people think Hilton, they think luxu...</td>\n",
       "    </tr>\n",
       "    <tr>\n",
       "      <th>4</th>\n",
       "      <td>0.0</td>\n",
       "      <td>0.0</td>\n",
       "      <td>My husband and I recently stayed stayed at the...</td>\n",
       "    </tr>\n",
       "  </tbody>\n",
       "</table>\n",
       "</div>"
      ],
      "text/plain": [
       "   truth  polarity                                               text\n",
       "0    0.0       0.0  We stayed at the Schicago Hilton for 4 days an...\n",
       "1    0.0       0.0  Hotel is located 1/2 mile from the train stati...\n",
       "2    0.0       0.0  I made my reservation at the Hilton Chicago be...\n",
       "3    0.0       0.0  When most people think Hilton, they think luxu...\n",
       "4    0.0       0.0  My husband and I recently stayed stayed at the..."
      ]
     },
     "execution_count": 3,
     "metadata": {},
     "output_type": "execute_result"
    }
   ],
   "source": [
    "df[\"truth\"][df[\"truth\"] == False], df[\"truth\"][df[\"truth\"] == True] = int(0), int(1)\n",
    "df[\"polarity\"][df[\"polarity\"] == False], df[\"polarity\"][df[\"polarity\"] == True] = int(0), int(1)\n",
    "\n",
    "df = df.drop([\"file\", \"description\"], axis=1)\n",
    "columnsTitles=[\"truth\",\"polarity\", \"text\"]\n",
    "\n",
    "df = df.reindex(columns=columnsTitles)\n",
    "df.head()"
   ]
  },
  {
   "cell_type": "markdown",
   "metadata": {},
   "source": [
    "### Tokenization\n",
    "\n",
    "Using nltk package in order to tokenize the documents. The tokenize methods separate punctuations so that: \"word,\" goes to two token: \"word\" and \",\""
   ]
  },
  {
   "cell_type": "code",
   "execution_count": 4,
   "metadata": {},
   "outputs": [
    {
     "data": {
      "text/html": [
       "<div>\n",
       "<style scoped>\n",
       "    .dataframe tbody tr th:only-of-type {\n",
       "        vertical-align: middle;\n",
       "    }\n",
       "\n",
       "    .dataframe tbody tr th {\n",
       "        vertical-align: top;\n",
       "    }\n",
       "\n",
       "    .dataframe thead th {\n",
       "        text-align: right;\n",
       "    }\n",
       "</style>\n",
       "<table border=\"1\" class=\"dataframe\">\n",
       "  <thead>\n",
       "    <tr style=\"text-align: right;\">\n",
       "      <th></th>\n",
       "      <th>truth</th>\n",
       "      <th>polarity</th>\n",
       "      <th>text</th>\n",
       "      <th>token</th>\n",
       "    </tr>\n",
       "  </thead>\n",
       "  <tbody>\n",
       "    <tr>\n",
       "      <th>0</th>\n",
       "      <td>0.0</td>\n",
       "      <td>0.0</td>\n",
       "      <td>We stayed at the Schicago Hilton for 4 days an...</td>\n",
       "      <td>[We, stayed, at, the, Schicago, Hilton, for, 4...</td>\n",
       "    </tr>\n",
       "    <tr>\n",
       "      <th>1</th>\n",
       "      <td>0.0</td>\n",
       "      <td>0.0</td>\n",
       "      <td>Hotel is located 1/2 mile from the train stati...</td>\n",
       "      <td>[Hotel, is, located, 1/2, mile, from, the, tra...</td>\n",
       "    </tr>\n",
       "    <tr>\n",
       "      <th>2</th>\n",
       "      <td>0.0</td>\n",
       "      <td>0.0</td>\n",
       "      <td>I made my reservation at the Hilton Chicago be...</td>\n",
       "      <td>[I, made, my, reservation, at, the, Hilton, Ch...</td>\n",
       "    </tr>\n",
       "    <tr>\n",
       "      <th>3</th>\n",
       "      <td>0.0</td>\n",
       "      <td>0.0</td>\n",
       "      <td>When most people think Hilton, they think luxu...</td>\n",
       "      <td>[When, most, people, think, Hilton, ,, they, t...</td>\n",
       "    </tr>\n",
       "    <tr>\n",
       "      <th>4</th>\n",
       "      <td>0.0</td>\n",
       "      <td>0.0</td>\n",
       "      <td>My husband and I recently stayed stayed at the...</td>\n",
       "      <td>[My, husband, and, I, recently, stayed, stayed...</td>\n",
       "    </tr>\n",
       "  </tbody>\n",
       "</table>\n",
       "</div>"
      ],
      "text/plain": [
       "   truth  polarity                                               text  \\\n",
       "0    0.0       0.0  We stayed at the Schicago Hilton for 4 days an...   \n",
       "1    0.0       0.0  Hotel is located 1/2 mile from the train stati...   \n",
       "2    0.0       0.0  I made my reservation at the Hilton Chicago be...   \n",
       "3    0.0       0.0  When most people think Hilton, they think luxu...   \n",
       "4    0.0       0.0  My husband and I recently stayed stayed at the...   \n",
       "\n",
       "                                               token  \n",
       "0  [We, stayed, at, the, Schicago, Hilton, for, 4...  \n",
       "1  [Hotel, is, located, 1/2, mile, from, the, tra...  \n",
       "2  [I, made, my, reservation, at, the, Hilton, Ch...  \n",
       "3  [When, most, people, think, Hilton, ,, they, t...  \n",
       "4  [My, husband, and, I, recently, stayed, stayed...  "
      ]
     },
     "execution_count": 4,
     "metadata": {},
     "output_type": "execute_result"
    }
   ],
   "source": [
    "df[\"token\"] = [nltk.word_tokenize(text) for text in df[\"text\"]]\n",
    "#df[\"token\"] = df[\"token\"].apply(lambda l: [x.lower() for x in l])\n",
    "df.head()"
   ]
  },
  {
   "cell_type": "markdown",
   "metadata": {},
   "source": [
    "### Removing Stop Words\n",
    "\n",
    "Stop words are not informative words, such as: \"at\", \"and\", \"or\" etc...\n",
    "For this reason we can remove them without compromizing our features"
   ]
  },
  {
   "cell_type": "code",
   "execution_count": 5,
   "metadata": {},
   "outputs": [
    {
     "name": "stdout",
     "output_type": "stream",
     "text": [
      "Removing Stop-Words procedure: Done\n"
     ]
    }
   ],
   "source": [
    "from nltk.corpus import stopwords \n",
    "stop_words = set(stopwords.words('english'))\n",
    "stop_words.remove(\"no\")\n",
    "stop_words.remove(\"not\")\n",
    "\n",
    "df[\"no_StopWord_token\"] = df[\"token\"].apply(lambda l: [x for x in l if x not in stop_words])\n",
    "print(\"Removing Stop-Words procedure: Done\")"
   ]
  },
  {
   "cell_type": "markdown",
   "metadata": {},
   "source": [
    "### Removing punctuations"
   ]
  },
  {
   "cell_type": "code",
   "execution_count": 6,
   "metadata": {},
   "outputs": [],
   "source": [
    "puntk = set([\".\", \",\", \":\", \"!\", \"?\", '\"', \";\", \"(\", \")\", \"...\", \"''\"])\n",
    "df[\"no_StopWord_token\"] = df[\"no_StopWord_token\"].apply(lambda l: [x for x in l if x not in puntk])"
   ]
  },
  {
   "cell_type": "code",
   "execution_count": 7,
   "metadata": {},
   "outputs": [
    {
     "data": {
      "text/html": [
       "<div>\n",
       "<style scoped>\n",
       "    .dataframe tbody tr th:only-of-type {\n",
       "        vertical-align: middle;\n",
       "    }\n",
       "\n",
       "    .dataframe tbody tr th {\n",
       "        vertical-align: top;\n",
       "    }\n",
       "\n",
       "    .dataframe thead th {\n",
       "        text-align: right;\n",
       "    }\n",
       "</style>\n",
       "<table border=\"1\" class=\"dataframe\">\n",
       "  <thead>\n",
       "    <tr style=\"text-align: right;\">\n",
       "      <th></th>\n",
       "      <th>truth</th>\n",
       "      <th>polarity</th>\n",
       "      <th>no_StopWord_token</th>\n",
       "    </tr>\n",
       "  </thead>\n",
       "  <tbody>\n",
       "    <tr>\n",
       "      <th>0</th>\n",
       "      <td>0.0</td>\n",
       "      <td>0.0</td>\n",
       "      <td>[We, stayed, Schicago, Hilton, 4, days, 3, nig...</td>\n",
       "    </tr>\n",
       "    <tr>\n",
       "      <th>1</th>\n",
       "      <td>0.0</td>\n",
       "      <td>0.0</td>\n",
       "      <td>[Hotel, located, 1/2, mile, train, station, qu...</td>\n",
       "    </tr>\n",
       "    <tr>\n",
       "      <th>2</th>\n",
       "      <td>0.0</td>\n",
       "      <td>0.0</td>\n",
       "      <td>[I, made, reservation, Hilton, Chicago, believ...</td>\n",
       "    </tr>\n",
       "    <tr>\n",
       "      <th>3</th>\n",
       "      <td>0.0</td>\n",
       "      <td>0.0</td>\n",
       "      <td>[When, people, think, Hilton, think, luxury, I...</td>\n",
       "    </tr>\n",
       "    <tr>\n",
       "      <th>4</th>\n",
       "      <td>0.0</td>\n",
       "      <td>0.0</td>\n",
       "      <td>[My, husband, I, recently, stayed, stayed, Hil...</td>\n",
       "    </tr>\n",
       "  </tbody>\n",
       "</table>\n",
       "</div>"
      ],
      "text/plain": [
       "   truth  polarity                                  no_StopWord_token\n",
       "0    0.0       0.0  [We, stayed, Schicago, Hilton, 4, days, 3, nig...\n",
       "1    0.0       0.0  [Hotel, located, 1/2, mile, train, station, qu...\n",
       "2    0.0       0.0  [I, made, reservation, Hilton, Chicago, believ...\n",
       "3    0.0       0.0  [When, people, think, Hilton, think, luxury, I...\n",
       "4    0.0       0.0  [My, husband, I, recently, stayed, stayed, Hil..."
      ]
     },
     "execution_count": 7,
     "metadata": {},
     "output_type": "execute_result"
    }
   ],
   "source": [
    "text = df[\"no_StopWord_token\"]\n",
    "df[[\"truth\", \"polarity\", \"no_StopWord_token\"]].head()"
   ]
  },
  {
   "cell_type": "code",
   "execution_count": 8,
   "metadata": {},
   "outputs": [
    {
     "data": {
      "text/html": [
       "<div>\n",
       "<style scoped>\n",
       "    .dataframe tbody tr th:only-of-type {\n",
       "        vertical-align: middle;\n",
       "    }\n",
       "\n",
       "    .dataframe tbody tr th {\n",
       "        vertical-align: top;\n",
       "    }\n",
       "\n",
       "    .dataframe thead th {\n",
       "        text-align: right;\n",
       "    }\n",
       "</style>\n",
       "<table border=\"1\" class=\"dataframe\">\n",
       "  <thead>\n",
       "    <tr style=\"text-align: right;\">\n",
       "      <th></th>\n",
       "      <th>truth</th>\n",
       "      <th>polarity</th>\n",
       "      <th>text</th>\n",
       "      <th>token</th>\n",
       "      <th>no_StopWord_token</th>\n",
       "    </tr>\n",
       "  </thead>\n",
       "  <tbody>\n",
       "    <tr>\n",
       "      <th>0</th>\n",
       "      <td>0.0</td>\n",
       "      <td>0.0</td>\n",
       "      <td>We stayed at the Schicago Hilton for 4 days an...</td>\n",
       "      <td>[We, stayed, at, the, Schicago, Hilton, for, 4...</td>\n",
       "      <td>[we, stay, schicago, hilton, 4, day, 3, night,...</td>\n",
       "    </tr>\n",
       "    <tr>\n",
       "      <th>1</th>\n",
       "      <td>0.0</td>\n",
       "      <td>0.0</td>\n",
       "      <td>Hotel is located 1/2 mile from the train stati...</td>\n",
       "      <td>[Hotel, is, located, 1/2, mile, from, the, tra...</td>\n",
       "      <td>[hotel, locat, 1/2, mile, train, station, quit...</td>\n",
       "    </tr>\n",
       "    <tr>\n",
       "      <th>2</th>\n",
       "      <td>0.0</td>\n",
       "      <td>0.0</td>\n",
       "      <td>I made my reservation at the Hilton Chicago be...</td>\n",
       "      <td>[I, made, my, reservation, at, the, Hilton, Ch...</td>\n",
       "      <td>[i, made, reserv, hilton, chicago, believ, i, ...</td>\n",
       "    </tr>\n",
       "    <tr>\n",
       "      <th>3</th>\n",
       "      <td>0.0</td>\n",
       "      <td>0.0</td>\n",
       "      <td>When most people think Hilton, they think luxu...</td>\n",
       "      <td>[When, most, people, think, Hilton, ,, they, t...</td>\n",
       "      <td>[when, peopl, think, hilton, think, luxuri, i,...</td>\n",
       "    </tr>\n",
       "    <tr>\n",
       "      <th>4</th>\n",
       "      <td>0.0</td>\n",
       "      <td>0.0</td>\n",
       "      <td>My husband and I recently stayed stayed at the...</td>\n",
       "      <td>[My, husband, and, I, recently, stayed, stayed...</td>\n",
       "      <td>[my, husband, i, recent, stay, stay, hilton, c...</td>\n",
       "    </tr>\n",
       "  </tbody>\n",
       "</table>\n",
       "</div>"
      ],
      "text/plain": [
       "   truth  polarity                                               text  \\\n",
       "0    0.0       0.0  We stayed at the Schicago Hilton for 4 days an...   \n",
       "1    0.0       0.0  Hotel is located 1/2 mile from the train stati...   \n",
       "2    0.0       0.0  I made my reservation at the Hilton Chicago be...   \n",
       "3    0.0       0.0  When most people think Hilton, they think luxu...   \n",
       "4    0.0       0.0  My husband and I recently stayed stayed at the...   \n",
       "\n",
       "                                               token  \\\n",
       "0  [We, stayed, at, the, Schicago, Hilton, for, 4...   \n",
       "1  [Hotel, is, located, 1/2, mile, from, the, tra...   \n",
       "2  [I, made, my, reservation, at, the, Hilton, Ch...   \n",
       "3  [When, most, people, think, Hilton, ,, they, t...   \n",
       "4  [My, husband, and, I, recently, stayed, stayed...   \n",
       "\n",
       "                                   no_StopWord_token  \n",
       "0  [we, stay, schicago, hilton, 4, day, 3, night,...  \n",
       "1  [hotel, locat, 1/2, mile, train, station, quit...  \n",
       "2  [i, made, reserv, hilton, chicago, believ, i, ...  \n",
       "3  [when, peopl, think, hilton, think, luxuri, i,...  \n",
       "4  [my, husband, i, recent, stay, stay, hilton, c...  "
      ]
     },
     "execution_count": 8,
     "metadata": {},
     "output_type": "execute_result"
    }
   ],
   "source": [
    "sno = nltk.stem.SnowballStemmer('english')\n",
    "df[\"no_StopWord_token\"] = df[\"no_StopWord_token\"].apply(lambda l: [sno.stem(x) for x in l])\n",
    "df.head()"
   ]
  },
  {
   "cell_type": "markdown",
   "metadata": {},
   "source": [
    "## Step 2: Bag of Words\n",
    "\n",
    "Creating as a features for our classifier an input based on Bag of Words, with n-grams which go from 1 to 3. <br>\n",
    "\n",
    "### Retransforming token in String\n",
    "\n",
    "Some data pre-processing"
   ]
  },
  {
   "cell_type": "code",
   "execution_count": 9,
   "metadata": {
    "scrolled": true
   },
   "outputs": [
    {
     "data": {
      "text/html": [
       "<div>\n",
       "<style scoped>\n",
       "    .dataframe tbody tr th:only-of-type {\n",
       "        vertical-align: middle;\n",
       "    }\n",
       "\n",
       "    .dataframe tbody tr th {\n",
       "        vertical-align: top;\n",
       "    }\n",
       "\n",
       "    .dataframe thead th {\n",
       "        text-align: right;\n",
       "    }\n",
       "</style>\n",
       "<table border=\"1\" class=\"dataframe\">\n",
       "  <thead>\n",
       "    <tr style=\"text-align: right;\">\n",
       "      <th></th>\n",
       "      <th>truth</th>\n",
       "      <th>polarity</th>\n",
       "      <th>text_without_SW</th>\n",
       "    </tr>\n",
       "  </thead>\n",
       "  <tbody>\n",
       "    <tr>\n",
       "      <th>0</th>\n",
       "      <td>0.0</td>\n",
       "      <td>0.0</td>\n",
       "      <td>we stay schicago hilton 4 day 3 night confer i...</td>\n",
       "    </tr>\n",
       "    <tr>\n",
       "      <th>1</th>\n",
       "      <td>0.0</td>\n",
       "      <td>0.0</td>\n",
       "      <td>hotel locat 1/2 mile train station quit hike r...</td>\n",
       "    </tr>\n",
       "    <tr>\n",
       "      <th>2</th>\n",
       "      <td>0.0</td>\n",
       "      <td>0.0</td>\n",
       "      <td>i made reserv hilton chicago believ i go stay ...</td>\n",
       "    </tr>\n",
       "    <tr>\n",
       "      <th>3</th>\n",
       "      <td>0.0</td>\n",
       "      <td>0.0</td>\n",
       "      <td>when peopl think hilton think luxuri i know i ...</td>\n",
       "    </tr>\n",
       "    <tr>\n",
       "      <th>4</th>\n",
       "      <td>0.0</td>\n",
       "      <td>0.0</td>\n",
       "      <td>my husband i recent stay stay hilton chicago h...</td>\n",
       "    </tr>\n",
       "  </tbody>\n",
       "</table>\n",
       "</div>"
      ],
      "text/plain": [
       "   truth  polarity                                    text_without_SW\n",
       "0    0.0       0.0  we stay schicago hilton 4 day 3 night confer i...\n",
       "1    0.0       0.0  hotel locat 1/2 mile train station quit hike r...\n",
       "2    0.0       0.0  i made reserv hilton chicago believ i go stay ...\n",
       "3    0.0       0.0  when peopl think hilton think luxuri i know i ...\n",
       "4    0.0       0.0  my husband i recent stay stay hilton chicago h..."
      ]
     },
     "execution_count": 9,
     "metadata": {},
     "output_type": "execute_result"
    }
   ],
   "source": [
    "text_wo_SW = []\n",
    "\n",
    "for text in df[\"no_StopWord_token\"]:\n",
    "    text_wo_SW.append(\" \".join(text))\n",
    "\n",
    "df[\"text_without_SW\"] = text_wo_SW\n",
    "df[[\"truth\", \"polarity\", \"text_without_SW\"]].head()"
   ]
  },
  {
   "cell_type": "markdown",
   "metadata": {},
   "source": [
    "### Creating DF of Bag Of Words and N-grams\n",
    "\n",
    "tf-idf is used to calculate \"the importance\" of each n-gram in each document and then normalized by each row\n",
    "<br> Furthermore n-gramm too much frequent or too less frequent are removed as they are not meaningful."
   ]
  },
  {
   "cell_type": "code",
   "execution_count": 10,
   "metadata": {},
   "outputs": [
    {
     "name": "stdout",
     "output_type": "stream",
     "text": [
      "'tf-idf procedure: Done'\n"
     ]
    }
   ],
   "source": [
    "from sklearn.feature_extraction.text import TfidfVectorizer\n",
    "texts = df[\"text_without_SW\"]\n",
    "tfidf = TfidfVectorizer(min_df = 3, max_df=0.5, ngram_range=(1, 2))\n",
    "features = tfidf.fit_transform(texts)\n",
    "print(\"'tf-idf procedure: Done'\")"
   ]
  },
  {
   "cell_type": "code",
   "execution_count": 11,
   "metadata": {},
   "outputs": [
    {
     "data": {
      "text/html": [
       "<div>\n",
       "<style scoped>\n",
       "    .dataframe tbody tr th:only-of-type {\n",
       "        vertical-align: middle;\n",
       "    }\n",
       "\n",
       "    .dataframe tbody tr th {\n",
       "        vertical-align: top;\n",
       "    }\n",
       "\n",
       "    .dataframe thead th {\n",
       "        text-align: right;\n",
       "    }\n",
       "</style>\n",
       "<table border=\"1\" class=\"dataframe\">\n",
       "  <thead>\n",
       "    <tr style=\"text-align: right;\">\n",
       "      <th></th>\n",
       "      <th>00</th>\n",
       "      <th>00 night</th>\n",
       "      <th>00 per</th>\n",
       "      <th>00 pm</th>\n",
       "      <th>000</th>\n",
       "      <th>10</th>\n",
       "      <th>10 10</th>\n",
       "      <th>10 15</th>\n",
       "      <th>10 30</th>\n",
       "      <th>10 day</th>\n",
       "      <th>...</th>\n",
       "      <th>you re</th>\n",
       "      <th>you take</th>\n",
       "      <th>young</th>\n",
       "      <th>young woman</th>\n",
       "      <th>younger</th>\n",
       "      <th>your</th>\n",
       "      <th>yuck</th>\n",
       "      <th>yummi</th>\n",
       "      <th>zest</th>\n",
       "      <th>zone</th>\n",
       "    </tr>\n",
       "  </thead>\n",
       "  <tbody>\n",
       "    <tr>\n",
       "      <th>0</th>\n",
       "      <td>0.0</td>\n",
       "      <td>0.0</td>\n",
       "      <td>0.0</td>\n",
       "      <td>0.0</td>\n",
       "      <td>0.0</td>\n",
       "      <td>0.0</td>\n",
       "      <td>0.0</td>\n",
       "      <td>0.0</td>\n",
       "      <td>0.0</td>\n",
       "      <td>0.0</td>\n",
       "      <td>...</td>\n",
       "      <td>0.0</td>\n",
       "      <td>0.0</td>\n",
       "      <td>0.0</td>\n",
       "      <td>0.0</td>\n",
       "      <td>0.0</td>\n",
       "      <td>0.0</td>\n",
       "      <td>0.0</td>\n",
       "      <td>0.0</td>\n",
       "      <td>0.0</td>\n",
       "      <td>0.0</td>\n",
       "    </tr>\n",
       "    <tr>\n",
       "      <th>1</th>\n",
       "      <td>0.0</td>\n",
       "      <td>0.0</td>\n",
       "      <td>0.0</td>\n",
       "      <td>0.0</td>\n",
       "      <td>0.0</td>\n",
       "      <td>0.0</td>\n",
       "      <td>0.0</td>\n",
       "      <td>0.0</td>\n",
       "      <td>0.0</td>\n",
       "      <td>0.0</td>\n",
       "      <td>...</td>\n",
       "      <td>0.0</td>\n",
       "      <td>0.0</td>\n",
       "      <td>0.0</td>\n",
       "      <td>0.0</td>\n",
       "      <td>0.0</td>\n",
       "      <td>0.0</td>\n",
       "      <td>0.0</td>\n",
       "      <td>0.0</td>\n",
       "      <td>0.0</td>\n",
       "      <td>0.0</td>\n",
       "    </tr>\n",
       "    <tr>\n",
       "      <th>2</th>\n",
       "      <td>0.0</td>\n",
       "      <td>0.0</td>\n",
       "      <td>0.0</td>\n",
       "      <td>0.0</td>\n",
       "      <td>0.0</td>\n",
       "      <td>0.0</td>\n",
       "      <td>0.0</td>\n",
       "      <td>0.0</td>\n",
       "      <td>0.0</td>\n",
       "      <td>0.0</td>\n",
       "      <td>...</td>\n",
       "      <td>0.0</td>\n",
       "      <td>0.0</td>\n",
       "      <td>0.0</td>\n",
       "      <td>0.0</td>\n",
       "      <td>0.0</td>\n",
       "      <td>0.0</td>\n",
       "      <td>0.0</td>\n",
       "      <td>0.0</td>\n",
       "      <td>0.0</td>\n",
       "      <td>0.0</td>\n",
       "    </tr>\n",
       "    <tr>\n",
       "      <th>3</th>\n",
       "      <td>0.0</td>\n",
       "      <td>0.0</td>\n",
       "      <td>0.0</td>\n",
       "      <td>0.0</td>\n",
       "      <td>0.0</td>\n",
       "      <td>0.0</td>\n",
       "      <td>0.0</td>\n",
       "      <td>0.0</td>\n",
       "      <td>0.0</td>\n",
       "      <td>0.0</td>\n",
       "      <td>...</td>\n",
       "      <td>0.0</td>\n",
       "      <td>0.0</td>\n",
       "      <td>0.0</td>\n",
       "      <td>0.0</td>\n",
       "      <td>0.0</td>\n",
       "      <td>0.0</td>\n",
       "      <td>0.0</td>\n",
       "      <td>0.0</td>\n",
       "      <td>0.0</td>\n",
       "      <td>0.0</td>\n",
       "    </tr>\n",
       "    <tr>\n",
       "      <th>4</th>\n",
       "      <td>0.0</td>\n",
       "      <td>0.0</td>\n",
       "      <td>0.0</td>\n",
       "      <td>0.0</td>\n",
       "      <td>0.0</td>\n",
       "      <td>0.0</td>\n",
       "      <td>0.0</td>\n",
       "      <td>0.0</td>\n",
       "      <td>0.0</td>\n",
       "      <td>0.0</td>\n",
       "      <td>...</td>\n",
       "      <td>0.0</td>\n",
       "      <td>0.0</td>\n",
       "      <td>0.0</td>\n",
       "      <td>0.0</td>\n",
       "      <td>0.0</td>\n",
       "      <td>0.0</td>\n",
       "      <td>0.0</td>\n",
       "      <td>0.0</td>\n",
       "      <td>0.0</td>\n",
       "      <td>0.0</td>\n",
       "    </tr>\n",
       "  </tbody>\n",
       "</table>\n",
       "<p>5 rows × 9729 columns</p>\n",
       "</div>"
      ],
      "text/plain": [
       "    00  00 night  00 per  00 pm  000   10  10 10  10 15  10 30  10 day  ...   \\\n",
       "0  0.0       0.0     0.0    0.0  0.0  0.0    0.0    0.0    0.0     0.0  ...    \n",
       "1  0.0       0.0     0.0    0.0  0.0  0.0    0.0    0.0    0.0     0.0  ...    \n",
       "2  0.0       0.0     0.0    0.0  0.0  0.0    0.0    0.0    0.0     0.0  ...    \n",
       "3  0.0       0.0     0.0    0.0  0.0  0.0    0.0    0.0    0.0     0.0  ...    \n",
       "4  0.0       0.0     0.0    0.0  0.0  0.0    0.0    0.0    0.0     0.0  ...    \n",
       "\n",
       "   you re  you take  young  young woman  younger  your  yuck  yummi  zest  \\\n",
       "0     0.0       0.0    0.0          0.0      0.0   0.0   0.0    0.0   0.0   \n",
       "1     0.0       0.0    0.0          0.0      0.0   0.0   0.0    0.0   0.0   \n",
       "2     0.0       0.0    0.0          0.0      0.0   0.0   0.0    0.0   0.0   \n",
       "3     0.0       0.0    0.0          0.0      0.0   0.0   0.0    0.0   0.0   \n",
       "4     0.0       0.0    0.0          0.0      0.0   0.0   0.0    0.0   0.0   \n",
       "\n",
       "   zone  \n",
       "0   0.0  \n",
       "1   0.0  \n",
       "2   0.0  \n",
       "3   0.0  \n",
       "4   0.0  \n",
       "\n",
       "[5 rows x 9729 columns]"
      ]
     },
     "execution_count": 11,
     "metadata": {},
     "output_type": "execute_result"
    }
   ],
   "source": [
    "df_BoW = pd.DataFrame(features.todense(), columns=tfidf.get_feature_names())\n",
    "df_BoW[\"truth\"] = df[\"truth\"]\n",
    "df_BoW.head(5)"
   ]
  },
  {
   "cell_type": "code",
   "execution_count": 12,
   "metadata": {},
   "outputs": [],
   "source": [
    "X = df_BoW.drop(['truth'], axis=1)\n",
    "y = df_BoW['truth']"
   ]
  },
  {
   "cell_type": "markdown",
   "metadata": {},
   "source": [
    "### Applying PCA\n",
    "\n",
    "Applying the Principal Components Analysis to make the algorith speed up and clustering the enourmos quantity of features. The least variance the reduced model is the 95% of the original one"
   ]
  },
  {
   "cell_type": "code",
   "execution_count": 13,
   "metadata": {},
   "outputs": [
    {
     "name": "stdout",
     "output_type": "stream",
     "text": [
      "PCA has been completed\n",
      "Number of inputs: 1342\n"
     ]
    }
   ],
   "source": [
    "from sklearn.decomposition import PCA\n",
    "pca = PCA(.95)\n",
    "pca.fit(X)\n",
    "X = pca.transform(X)\n",
    "print(\"PCA has been completed\")\n",
    "print(\"Number of inputs: {}\".format(np.shape(X)[1]))"
   ]
  },
  {
   "cell_type": "markdown",
   "metadata": {},
   "source": [
    "## Step 3: Different models"
   ]
  },
  {
   "cell_type": "code",
   "execution_count": 14,
   "metadata": {},
   "outputs": [],
   "source": [
    "#from xgboost import XGBClassifier\n",
    "#import xgboost\n",
    "\n",
    "import matplotlib.pyplot as plt\n",
    "from sklearn.preprocessing import LabelEncoder\n",
    "from sklearn.feature_selection import SelectKBest, f_classif\n",
    "from sklearn.linear_model import LinearRegression\n",
    "from sklearn.linear_model import LogisticRegression\n",
    "from sklearn.linear_model import SGDClassifier\n",
    "from sklearn.ensemble import RandomForestClassifier, GradientBoostingClassifier\n",
    "from sklearn.neighbors import KNeighborsClassifier\n",
    "from sklearn.naive_bayes import GaussianNB\n",
    "from sklearn.model_selection import train_test_split\n",
    "from sklearn import model_selection, svm\n",
    "from sklearn.neural_network import MLPClassifier\n",
    "from sklearn.neighbors import KNeighborsClassifier\n",
    "from sklearn.ensemble import RandomForestClassifier,GradientBoostingClassifier\n",
    "from sklearn.linear_model import LogisticRegression\n",
    "from sklearn.metrics import roc_curve, auc\n",
    "from sklearn.svm import SVC\n"
   ]
  },
  {
   "cell_type": "code",
   "execution_count": 15,
   "metadata": {},
   "outputs": [],
   "source": [
    "%matplotlib inline\n",
    "numeric_data = X\n",
    "target = y\n",
    "numeric_data_best = SelectKBest(f_classif, k=6).fit_transform(numeric_data, target)"
   ]
  },
  {
   "cell_type": "code",
   "execution_count": 16,
   "metadata": {},
   "outputs": [
    {
     "name": "stdout",
     "output_type": "stream",
     "text": [
      "Random Forest: Done\n",
      "KNN: Done\n",
      "Logistic: Done\n",
      "Gradient Boosting: Done\n",
      "SVC: Done\n"
     ]
    },
    {
     "data": {
      "image/png": "[encoded data removed]",
      "text/plain": [
       "<Figure size 432x288 with 1 Axes>"
      ]
     },
     "metadata": {},
     "output_type": "display_data"
    }
   ],
   "source": [
    "# Trying to find best model\n",
    "model_rfc = RandomForestClassifier(n_estimators = 70)\n",
    "model_knc = KNeighborsClassifier(n_neighbors = 18) \n",
    "model_lr = LogisticRegression(penalty='l1', tol=0.01) \n",
    "model_gb = GradientBoostingClassifier(learning_rate=0.1, n_estimators=100)\n",
    "model_svc = svm.SVC() \n",
    "#model_xgb = XGBClassifier()\n",
    "model_svc = SVC(kernel='rbf', random_state=0)\n",
    "\n",
    "ROCtrainTRN, ROCtestTRN, ROCtrainTRG, ROCtestTRG = model_selection.train_test_split(numeric_data_best, target, test_size=0.25) \n",
    "\n",
    "results = {}\n",
    "kfold = 5\n",
    "\n",
    "results['Random Forest'] = model_selection.cross_val_score(model_rfc, numeric_data_best, target, cv=kfold).mean()\n",
    "print(\"Random Forest: Done\")\n",
    "results['KNN'] = model_selection.cross_val_score(model_knc, numeric_data_best, target, cv=kfold).mean()\n",
    "print(\"KNN: Done\")\n",
    "results['Logistic Regression'] = model_selection.cross_val_score(model_lr, numeric_data_best, target, cv = kfold).mean()\n",
    "print(\"Logistic: Done\")\n",
    "results['Gradient Boosting'] = model_selection.cross_val_score(model_gb, numeric_data_best, target, cv = kfold).mean()\n",
    "print(\"Gradient Boosting: Done\")\n",
    "results['SVC'] = model_selection.cross_val_score(model_svc, numeric_data_best, target, cv = kfold).mean()\n",
    "print(\"SVC: Done\")\n",
    "#results['XGB'] = model_selection.cross_val_score(model_xgb, numeric_data_best, target, cv = kfold).mean()\n",
    "#print(\"XGB: Done\")\n",
    "\n",
    "clf = MLPClassifier(solver='lbfgs', alpha=0.0001,\n",
    "                    hidden_layer_sizes=(3, 25), random_state=42, learning_rate = 'adaptive')\n",
    "results['MLP'] = model_selection.cross_val_score(clf, numeric_data, target, cv=kfold).mean()\n",
    "\n",
    "plt.bar(range(len(results)), results.values(), align='center')\n",
    "plt.xticks(range(len(results)), list(results.keys()), rotation='vertical')\n",
    "plt.show()"
   ]
  },
  {
   "cell_type": "markdown",
   "metadata": {},
   "source": [
    "## Step 4: Displaying ROC Curve"
   ]
  },
  {
   "cell_type": "code",
   "execution_count": 78,
   "metadata": {},
   "outputs": [
    {
     "name": "stdout",
     "output_type": "stream",
     "text": [
      "\n",
      "Found a new best architecture, now displaying results:\n",
      "Layer: 3\n",
      "NeuronsOnLayer: 3\n",
      "Accurancy on test: 0.884375\n",
      "\n",
      "Found a new best architecture, now displaying results:\n",
      "Layer: 3\n",
      "NeuronsOnLayer: 4\n",
      "Accurancy on test: 0.8856249999999999\n",
      "\n",
      "Found a new best architecture, now displaying results:\n",
      "Layer: 3\n",
      "NeuronsOnLayer: 25\n",
      "Accurancy on test: 0.889375\n"
     ]
    }
   ],
   "source": [
    "l = []\n",
    "max_acc = 0\n",
    "for i in range(3, 30):\n",
    "    for j in range(3, 30):\n",
    "        clf = MLPClassifier(solver='lbfgs', alpha=0.0001,\n",
    "                    hidden_layer_sizes=(i, j), random_state=42, learning_rate = 'adaptive')\n",
    "        acc_on_test = model_selection.cross_val_score(clf, numeric_data, target, cv=kfold).mean()\n",
    "        l.append(model_selection.cross_val_score(clf, numeric_data, target, cv=kfold).mean())\n",
    "        if acc_on_test > max_acc:\n",
    "            max_acc = acc_on_test\n",
    "            print(\"\\nFound a new best architecture, now displaying results:\")\n",
    "            print(\"Neruons on 1st Layer: {}\\nNeurons on 2nd layer: {}\\nAccurancy on test: {}\"\n",
    "                  .format(i, j, acc_on_test))"
   ]
  },
  {
   "cell_type": "code",
   "execution_count": 17,
   "metadata": {},
   "outputs": [],
   "source": [
    "result_name = [x for x in results]\n",
    "result_acc = [results[x] for x in results]\n",
    "result_acc = np.round(result_acc, 2)\n",
    "df_res = pd.DataFrame(result_acc, index = result_name, columns = [\"Accuracy\"])\n",
    "df_res = df_res.transpose()\n",
    "df_res.head()\n",
    "\n",
    "df_res.to_csv(\"Models_accuracy.csv\")"
   ]
  },
  {
   "cell_type": "code",
   "execution_count": 18,
   "metadata": {},
   "outputs": [
    {
     "data": {
      "text/plain": [
       "<Figure size 432x288 with 0 Axes>"
      ]
     },
     "metadata": {},
     "output_type": "display_data"
    },
    {
     "data": {
      "image/png": "[encoded data removed]",
      "text/plain": [
       "<Figure size 1080x432 with 1 Axes>"
      ]
     },
     "metadata": {},
     "output_type": "display_data"
    }
   ],
   "source": [
    "# ROC\n",
    "roc_train_all, roc_test_all, roc_train_all_class, roc_test_all_class = model_selection.train_test_split(numeric_data, target, test_size=0.25) \n",
    "roc_train_best, roc_test_best, roc_train_best_class, roc_test_best_class = model_selection.train_test_split(numeric_data_best, target, test_size=0.25) \n",
    "\n",
    "models = [\n",
    "    {\n",
    "        'label' : 'Gradient Boosting',\n",
    "        'model': model_gb,\n",
    "        'roc_train': roc_train_best,\n",
    "        'roc_test': roc_test_best,\n",
    "        'roc_train_class': roc_train_best_class,        \n",
    "        'roc_test_class': roc_test_best_class,                \n",
    "    },\n",
    "    {\n",
    "        'label' : 'Random Forest Classifier',\n",
    "        'model': model_rfc,\n",
    "        'roc_train': roc_train_best,\n",
    "        'roc_test': roc_test_best,\n",
    "        'roc_train_class': roc_train_best_class,        \n",
    "        'roc_test_class': roc_test_best_class,        \n",
    "    },\n",
    "        {\n",
    "        'label' : 'SVC',\n",
    "        'model': model_svc,\n",
    "        'roc_train': roc_train_best,\n",
    "        'roc_test': roc_test_best,\n",
    "        'roc_train_class': roc_train_best_class,        \n",
    "        'roc_test_class': roc_test_best_class,        \n",
    "    },        \n",
    "    {\n",
    "        'label' : 'K-Neighbors Classifier',\n",
    "        'model': model_knc,\n",
    "        'roc_train': roc_train_all,\n",
    "        'roc_test': roc_test_all,\n",
    "        'roc_train_class': roc_train_all_class,        \n",
    "        'roc_test_class': roc_test_all_class,        \n",
    "    },\n",
    "    {\n",
    "        'label' : 'Logistic Regression',\n",
    "        'model': model_knc,\n",
    "        'roc_train': roc_train_all,\n",
    "        'roc_test': roc_test_all,\n",
    "        'roc_train_class': roc_train_all_class,        \n",
    "        'roc_test_class': roc_test_all_class,        \n",
    "    },\n",
    "    {\n",
    "        'label' : 'MuliLayer Perceptron Neural Network',\n",
    "        'model': clf,\n",
    "        'roc_train': roc_train_all,\n",
    "        'roc_test': roc_test_all,\n",
    "        'roc_train_class': roc_train_all_class,        \n",
    "        'roc_test_class': roc_test_all_class,        \n",
    "    }            \n",
    "]\n",
    "\n",
    "\n",
    "plt.clf()\n",
    "plt.figure(figsize=(15,6))\n",
    "\n",
    "for m in models:\n",
    "    m['model'].probability = True\n",
    "    probas = m['model'].fit(m['roc_train'], m['roc_train_class']).predict_proba(m['roc_test'])\n",
    "    fpr, tpr, thresholds = roc_curve(m['roc_test_class'], probas[:, 1])\n",
    "    roc_auc  = auc(fpr, tpr)\n",
    "    plt.plot(fpr, tpr, label='%s ROC (area = %0.2f)' % (m['label'], roc_auc))\n",
    "\n",
    "\n",
    "plt.plot([0, 1], [0, 1], 'k--')\n",
    "plt.xlim([0.0, 1.0])\n",
    "plt.ylim([0.0, 1.0])\n",
    "plt.xlabel('False Positive Rate')\n",
    "plt.ylabel('True Positive Rate')\n",
    "plt.legend(loc=0, fontsize='small')\n",
    "plt.show()"
   ]
  },
  {
   "cell_type": "code",
   "execution_count": 19,
   "metadata": {
    "scrolled": true
   },
   "outputs": [
    {
     "data": {
      "image/png": "[encoded data removed]",
      "text/plain": [
       "<Figure size 1440x432 with 1 Axes>"
      ]
     },
     "metadata": {},
     "output_type": "display_data"
    }
   ],
   "source": [
    "import grim as gr\n",
    "df_roc = pd.DataFrame.from_csv(\"roc_table.csv\")\n",
    "y_true, y_pred = gr.be_ready(df_roc)\n",
    "gr.plot_roc_curve_grimaldi(y_true, y_pred, label = [\"Local Features\", \"N-Grams\", \"Word2Vec\"])"
   ]
  }
 ],
 "metadata": {
  "kernelspec": {
   "display_name": "Python 3",
   "language": "python",
   "name": "python3"
  },
  "language_info": {
   "codemirror_mode": {
    "name": "ipython",
    "version": 3
   },
   "file_extension": ".py",
   "mimetype": "text/x-python",
   "name": "python",
   "nbconvert_exporter": "python",
   "pygments_lexer": "ipython3",
   "version": "3.6.8"
  }
 },
 "nbformat": 4,
 "nbformat_minor": 2
}
